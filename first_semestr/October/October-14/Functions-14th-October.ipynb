{
 "cells": [
  {
   "metadata": {},
   "cell_type": "markdown",
   "source": "# Функции",
   "id": "a96bf366d1b07395"
  },
  {
   "metadata": {
    "ExecuteTime": {
     "end_time": "2024-10-14T09:04:27.705659Z",
     "start_time": "2024-10-14T09:04:27.696160Z"
    }
   },
   "cell_type": "code",
   "source": [
    "def helloWorldFunction ():\n",
    "    return 'Hello World'\n",
    "helloWorldFunction()"
   ],
   "id": "9a5748105874e064",
   "outputs": [
    {
     "data": {
      "text/plain": [
       "'Hello World'"
      ]
     },
     "execution_count": 67,
     "metadata": {},
     "output_type": "execute_result"
    }
   ],
   "execution_count": 67
  },
  {
   "metadata": {
    "ExecuteTime": {
     "end_time": "2024-10-14T09:04:27.768485Z",
     "start_time": "2024-10-14T09:04:27.751805Z"
    }
   },
   "cell_type": "code",
   "source": [
    "# Функция для расчетов теоремы Пифагора a^2 = b^2 + с^2\n",
    "def pifagorTheoryFunction(leg1, leg2):\n",
    "    hypotenuse = leg1**2 + leg2**2\n",
    "    hypotenuse **= 0.5\n",
    "    return hypotenuse\n",
    "pifagorTheoryFunction(3, 4)"
   ],
   "id": "dd27e20d96077173",
   "outputs": [
    {
     "data": {
      "text/plain": [
       "5.0"
      ]
     },
     "execution_count": 68,
     "metadata": {},
     "output_type": "execute_result"
    }
   ],
   "execution_count": 68
  },
  {
   "metadata": {
    "ExecuteTime": {
     "end_time": "2024-10-14T09:04:27.854759Z",
     "start_time": "2024-10-14T09:04:27.841564Z"
    }
   },
   "cell_type": "code",
   "source": [
    "def introduceFunction(name, surname, age):\n",
    "    print(f'Hello, {name} {surname}! Your age is {age}!')\n",
    "\n",
    "introduceFunction('John', 'Smith', 22)"
   ],
   "id": "f33d39d85e42007d",
   "outputs": [
    {
     "name": "stdout",
     "output_type": "stream",
     "text": [
      "Hello, John Smith! Your age is 22!\n"
     ]
    }
   ],
   "execution_count": 69
  },
  {
   "metadata": {
    "ExecuteTime": {
     "end_time": "2024-10-14T09:04:27.940301Z",
     "start_time": "2024-10-14T09:04:27.926149Z"
    }
   },
   "cell_type": "code",
   "source": [
    "def sequenceFunction(stop, start=1, step=1):\n",
    "    myList = []\n",
    "    for i in range(start, stop + 1, step):\n",
    "        myList.append(i)\n",
    "    return myList\n",
    "\n",
    "sequenceFunction(10, 5, 3)"
   ],
   "id": "9012c0897b288b4",
   "outputs": [
    {
     "data": {
      "text/plain": [
       "[5, 8]"
      ]
     },
     "execution_count": 70,
     "metadata": {},
     "output_type": "execute_result"
    }
   ],
   "execution_count": 70
  },
  {
   "metadata": {},
   "cell_type": "markdown",
   "source": "# Факториал Числа",
   "id": "1c742351ee9eb953"
  },
  {
   "metadata": {
    "ExecuteTime": {
     "end_time": "2024-10-14T09:05:46.988792Z",
     "start_time": "2024-10-14T09:05:46.970279Z"
    }
   },
   "cell_type": "code",
   "source": [
    "def factorialFunction(n):\n",
    "    count = 1\n",
    "    for i in range(1, n + 1):\n",
    "        count *= i\n",
    "    return count\n",
    "\n",
    "factorialFunction(10)"
   ],
   "id": "91921cee57f2ee8c",
   "outputs": [
    {
     "name": "stdout",
     "output_type": "stream",
     "text": [
      "3628800\n"
     ]
    }
   ],
   "execution_count": 80
  },
  {
   "metadata": {},
   "cell_type": "markdown",
   "source": [
    "# Задача\n",
    "Написать функцию, которая расчитывает цену с учетом налога"
   ],
   "id": "a256bc7a583c1455"
  },
  {
   "metadata": {
    "ExecuteTime": {
     "end_time": "2024-10-14T09:09:32.283146Z",
     "start_time": "2024-10-14T09:09:32.273317Z"
    }
   },
   "cell_type": "code",
   "source": [
    "def totalPriceFunction(price, tax):\n",
    "    result = price + (price * tax / 100)\n",
    "    return result\n",
    "\n",
    "totalPriceFunction(100_000, 20)"
   ],
   "id": "bc7e0cc17be9ae82",
   "outputs": [
    {
     "data": {
      "text/plain": [
       "120000.0"
      ]
     },
     "execution_count": 85,
     "metadata": {},
     "output_type": "execute_result"
    }
   ],
   "execution_count": 85
  },
  {
   "metadata": {
    "ExecuteTime": {
     "end_time": "2024-10-14T09:14:36.665231Z",
     "start_time": "2024-10-14T09:14:36.634171Z"
    }
   },
   "cell_type": "code",
   "source": [
    "def getTemperatureFunction(temperature):\n",
    "    try:\n",
    "        temperature = float(temperature)\n",
    "        return temperature\n",
    "    except:\n",
    "        print('Please enter a number')\n",
    "        return None\n",
    "\n",
    "getTemperatureFunction('А что нет-то?')\n",
    "getTemperatureFunction(25)"
   ],
   "id": "2b552bdda695dcb0",
   "outputs": [
    {
     "name": "stdout",
     "output_type": "stream",
     "text": [
      "Please enter a number\n"
     ]
    },
    {
     "data": {
      "text/plain": [
       "25.0"
      ]
     },
     "execution_count": 89,
     "metadata": {},
     "output_type": "execute_result"
    }
   ],
   "execution_count": 89
  },
  {
   "metadata": {},
   "cell_type": "markdown",
   "source": "# Глобальные и локальные переменные",
   "id": "6d0b3141d317d85a"
  },
  {
   "metadata": {
    "ExecuteTime": {
     "end_time": "2024-10-14T09:20:05.092175Z",
     "start_time": "2024-10-14T09:20:05.078029Z"
    }
   },
   "cell_type": "code",
   "source": [
    "def incremrntFunction():\n",
    "    count = 0\n",
    "    count += 1\n",
    "    return count\n",
    "\n",
    "incremrntFunction()"
   ],
   "id": "31a4b51eee058796",
   "outputs": [
    {
     "data": {
      "text/plain": [
       "1"
      ]
     },
     "execution_count": 92,
     "metadata": {},
     "output_type": "execute_result"
    }
   ],
   "execution_count": 92
  },
  {
   "metadata": {
    "ExecuteTime": {
     "end_time": "2024-10-14T09:24:08.700440Z",
     "start_time": "2024-10-14T09:24:08.694263Z"
    }
   },
   "cell_type": "code",
   "source": [
    "countGlobal = 0\n",
    "def countGlobalFunction():\n",
    "    global countGlobal \n",
    "    countGlobal += 1\n",
    "    return countGlobal\n",
    "\n",
    "print(countGlobal)\n",
    "countGlobalFunction()\n",
    "print(countGlobal)\n",
    "countGlobalFunction()\n",
    "print(countGlobal)"
   ],
   "id": "96198f36e833643d",
   "outputs": [
    {
     "name": "stdout",
     "output_type": "stream",
     "text": [
      "0\n",
      "1\n",
      "2\n"
     ]
    }
   ],
   "execution_count": 98
  },
  {
   "metadata": {},
   "cell_type": "markdown",
   "source": "# Факториал числа",
   "id": "39bfa00691fa96b0"
  },
  {
   "metadata": {
    "ExecuteTime": {
     "end_time": "2024-10-14T09:35:15.364855Z",
     "start_time": "2024-10-14T09:35:15.348791Z"
    }
   },
   "cell_type": "code",
   "source": [
    "# Факториал лучше решать с помощью рекурсии \n",
    "# n! = n*(n-1)\n",
    "# 5! = 1 * 2 * 3 * 4 * 5\n",
    "# 5! = 5 * (4*3*2*1) = 5 * 4!\n",
    "def factorialFunction(num): \n",
    "    if num == 1:\n",
    "        return 1\n",
    "    result = factorialFunction(num - 1)\n",
    "    return num * result\n",
    "\n",
    "factorialFunction(5)"
   ],
   "id": "b869dd30c61b7d8d",
   "outputs": [
    {
     "data": {
      "text/plain": [
       "120"
      ]
     },
     "execution_count": 106,
     "metadata": {},
     "output_type": "execute_result"
    }
   ],
   "execution_count": 106
  },
  {
   "metadata": {},
   "cell_type": "markdown",
   "source": "# Неименованные (Лямбда) функции",
   "id": "d2b4f1163ee137df"
  },
  {
   "metadata": {
    "ExecuteTime": {
     "end_time": "2024-10-14T10:55:20.879772Z",
     "start_time": "2024-10-14T10:55:20.870379Z"
    }
   },
   "cell_type": "code",
   "source": [
    "def summFunction (x, y):\n",
    "    return x + y\n",
    "\n",
    "summFunction(5, 5)"
   ],
   "id": "5e477c6b8d6c552a",
   "outputs": [
    {
     "data": {
      "text/plain": [
       "10"
      ]
     },
     "execution_count": 110,
     "metadata": {},
     "output_type": "execute_result"
    }
   ],
   "execution_count": 110
  },
  {
   "metadata": {
    "ExecuteTime": {
     "end_time": "2024-10-14T10:55:08.383879Z",
     "start_time": "2024-10-14T10:55:08.368966Z"
    }
   },
   "cell_type": "code",
   "source": "(lambda x, y: x + y) (2, 3) ",
   "id": "62fac7d207711df5",
   "outputs": [
    {
     "data": {
      "text/plain": [
       "5"
      ]
     },
     "execution_count": 109,
     "metadata": {},
     "output_type": "execute_result"
    }
   ],
   "execution_count": 109
  },
  {
   "metadata": {
    "ExecuteTime": {
     "end_time": "2024-10-14T10:57:03.267636Z",
     "start_time": "2024-10-14T10:57:03.254398Z"
    }
   },
   "cell_type": "code",
   "source": [
    "summ_1 = (lambda x, y: x + y)\n",
    "summ_1(2, 3)"
   ],
   "id": "93f67fbb65dde4b1",
   "outputs": [
    {
     "data": {
      "text/plain": [
       "5"
      ]
     },
     "execution_count": 112,
     "metadata": {},
     "output_type": "execute_result"
    }
   ],
   "execution_count": 112
  },
  {
   "metadata": {},
   "cell_type": "markdown",
   "source": "# Task",
   "id": "ad46043f41e7e716"
  },
  {
   "metadata": {
    "ExecuteTime": {
     "end_time": "2024-10-14T11:04:19.800202Z",
     "start_time": "2024-10-14T11:04:19.793934Z"
    }
   },
   "cell_type": "code",
   "source": [
    "num = ['5', '10', '7', '11', '3']\n",
    "num.sort(key=int)\n",
    "num = list(map(int, num))"
   ],
   "id": "b5a3cffcdb8bcb2c",
   "outputs": [],
   "execution_count": 121
  },
  {
   "metadata": {
    "ExecuteTime": {
     "end_time": "2024-10-14T11:04:21.422210Z",
     "start_time": "2024-10-14T11:04:21.412270Z"
    }
   },
   "cell_type": "code",
   "source": "list(map(lambda x: x**2, num))",
   "id": "390dd88c09cb5af7",
   "outputs": [
    {
     "data": {
      "text/plain": [
       "[9, 25, 49, 100, 121]"
      ]
     },
     "execution_count": 122,
     "metadata": {},
     "output_type": "execute_result"
    }
   ],
   "execution_count": 122
  },
  {
   "metadata": {},
   "cell_type": "markdown",
   "source": "# Аннотация типов",
   "id": "ec274386825fce38"
  },
  {
   "metadata": {},
   "cell_type": "code",
   "outputs": [],
   "execution_count": null,
   "source": [
    "def summFunction (x:int, y:int) -> int:\n",
    "    return x + y\n",
    "\n",
    "summFunction(5, 5)"
   ],
   "id": "b818ece431d2454e"
  },
  {
   "metadata": {},
   "cell_type": "markdown",
   "source": "# Документация",
   "id": "c840de3035295786"
  },
  {
   "metadata": {
    "ExecuteTime": {
     "end_time": "2024-10-14T11:19:33.266699Z",
     "start_time": "2024-10-14T11:19:33.255666Z"
    }
   },
   "cell_type": "code",
   "source": [
    "def summFunction (x:int, y:int) -> int:\n",
    "    '''\n",
    "    1) Функция возравщает сумму параметров\n",
    "    \n",
    "    2) Параметры:\n",
    "        x (int): Целое число\n",
    "        y (int): Целое число\n",
    "    3) Возвращение значения\n",
    "        result (int): Сумма (Целое число)\n",
    "    '''\n",
    "    \n",
    "    result = int(x) + int(y)\n",
    "    return result\n",
    "\n",
    "summFunction(5, 5)"
   ],
   "id": "71bc53e414f0e0f5",
   "outputs": [
    {
     "data": {
      "text/plain": [
       "10"
      ]
     },
     "execution_count": 129,
     "metadata": {},
     "output_type": "execute_result"
    }
   ],
   "execution_count": 129
  },
  {
   "metadata": {
    "ExecuteTime": {
     "end_time": "2024-10-14T11:20:10.042845Z",
     "start_time": "2024-10-14T11:20:10.026166Z"
    }
   },
   "cell_type": "code",
   "source": [
    "help(summFunction)\n",
    "summFunction.__doc__"
   ],
   "id": "52b9c3515b74eade",
   "outputs": [
    {
     "name": "stdout",
     "output_type": "stream",
     "text": [
      "Help on function summFunction in module __main__:\n",
      "\n",
      "summFunction(x: int, y: int) -> int\n",
      "    1) Функция возравщает сумму параметров\n",
      "\n",
      "    2) Параметры:\n",
      "        x (int): Целое число\n",
      "        y (int): Целое число\n",
      "    3) Возвращение значения\n",
      "        result (int): Сумма (Целое число)\n",
      "\n"
     ]
    },
    {
     "data": {
      "text/plain": [
       "'\\n    1) Функция возравщает сумму параметров\\n    \\n    2) Параметры:\\n        x (int): Целое число\\n        y (int): Целое число\\n    3) Возвращение значения\\n        result (int): Сумма (Целое число)\\n    '"
      ]
     },
     "execution_count": 131,
     "metadata": {},
     "output_type": "execute_result"
    }
   ],
   "execution_count": 131
  }
 ],
 "metadata": {
  "kernelspec": {
   "display_name": "Python 3",
   "language": "python",
   "name": "python3"
  },
  "language_info": {
   "codemirror_mode": {
    "name": "ipython",
    "version": 2
   },
   "file_extension": ".py",
   "mimetype": "text/x-python",
   "name": "python",
   "nbconvert_exporter": "python",
   "pygments_lexer": "ipython2",
   "version": "2.7.6"
  }
 },
 "nbformat": 4,
 "nbformat_minor": 5
}
