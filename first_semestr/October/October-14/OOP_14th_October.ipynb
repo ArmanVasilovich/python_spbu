{
 "cells": [
  {
   "metadata": {},
   "cell_type": "markdown",
   "source": [
    "# Объектно-ориентированное программирование | ООП\n",
    "- Абстракция\n",
    "- Инкапсуляция\n",
    "- Полиморфизм\n",
    "- Наследование"
   ],
   "id": "fcdb37aca3f7a115"
  },
  {
   "metadata": {
    "ExecuteTime": {
     "end_time": "2024-10-14T11:39:05.936884Z",
     "start_time": "2024-10-14T11:39:05.927838Z"
    }
   },
   "cell_type": "code",
   "source": [
    "class User:\n",
    "    userName:str = 'admin'\n",
    "    userSurname:str = 'surname'\n",
    "    password:str = '1q2w3e4r5t'\n",
    "\n",
    "    def info(self):\n",
    "        print(f' Имя: {self.userName} Фамилия: {self.userSurname} Пароль: {self.password}')\n",
    "user_1 = User()\n",
    "user_1.userName = 'Oleg'\n",
    "user_1.userSurname = 'Tinkoff'\n",
    "user_1.password = 'Oleg1967'\n",
    "user_1.info()"
   ],
   "id": "309faa749eedcf58",
   "outputs": [
    {
     "name": "stdout",
     "output_type": "stream",
     "text": [
      " Имя: Oleg Фамилия: Tinkoff Пароль: Oleg1967\n"
     ]
    }
   ],
   "execution_count": 43
  },
  {
   "metadata": {},
   "cell_type": "markdown",
   "source": "# Конструктор класса",
   "id": "b0e5e1d1a6c163a1"
  },
  {
   "metadata": {
    "ExecuteTime": {
     "end_time": "2024-10-14T11:49:48.814121Z",
     "start_time": "2024-10-14T11:49:48.807405Z"
    }
   },
   "cell_type": "code",
   "source": [
    "class Student:\n",
    "    def __init__(self, name, surname, age, group):\n",
    "        self.name = name\n",
    "        self.surname = surname\n",
    "        self.age = age\n",
    "        self.group = group\n",
    "    \n",
    "    def info(self):\n",
    "        print(f'Имя: {self.name} '\n",
    "              f'Фаимлия: {self.surname} '\n",
    "              f'Возраст: {self.age} '\n",
    "              f'Группа: {self.group}')"
   ],
   "id": "c0d625d555a35d9",
   "outputs": [],
   "execution_count": 53
  },
  {
   "metadata": {},
   "cell_type": "markdown",
   "source": "# Экземпляр класса",
   "id": "5e4fcaaad00a44e9"
  },
  {
   "metadata": {
    "ExecuteTime": {
     "end_time": "2024-10-14T11:49:51.376975Z",
     "start_time": "2024-10-14T11:49:51.369522Z"
    }
   },
   "cell_type": "code",
   "source": [
    "student_1 = Student('Oleg', 'Tinkoff', 56, 16)\n",
    "student_1.info()"
   ],
   "id": "45702577517030e6",
   "outputs": [
    {
     "name": "stdout",
     "output_type": "stream",
     "text": [
      "Имя: Oleg Фаимлия: Tinkoff Возраст: 56 Группа: 16\n"
     ]
    }
   ],
   "execution_count": 54
  },
  {
   "metadata": {},
   "cell_type": "markdown",
   "source": [
    "# Task 1\n",
    "- Есть список фамилий людей\n",
    "- Нужно вывести фамилии, которые заканчиваются на 'ов' и возраст больше 30"
   ],
   "id": "3cfb1271dbd5ae2e"
  },
  {
   "metadata": {
    "ExecuteTime": {
     "end_time": "2024-10-14T11:56:14.361275Z",
     "start_time": "2024-10-14T11:56:14.355777Z"
    }
   },
   "cell_type": "code",
   "source": [
    "names = ['Петров', 'Орлов', 'Сидоров', 'Петросян', 'Мартирасян', 'Воронов', 'Бурунов', 'Иванов']\n",
    "ages = [12, 33, 43, 53, 28, 19, 20, 33]"
   ],
   "id": "1433568c31c968e4",
   "outputs": [],
   "execution_count": 61
  },
  {
   "metadata": {
    "ExecuteTime": {
     "end_time": "2024-10-14T12:04:19.576466Z",
     "start_time": "2024-10-14T12:04:19.564353Z"
    }
   },
   "cell_type": "code",
   "source": [
    "for i in range(len(names)):\n",
    "    names_length = len(names[i])\n",
    "    if names[i][(names_length - 2):names_length] == 'ов' and ages[i] > 30:\n",
    "        print(names[i])"
   ],
   "id": "da880949c0692bf3",
   "outputs": [
    {
     "name": "stdout",
     "output_type": "stream",
     "text": [
      "Орлов\n",
      "Сидоров\n"
     ]
    }
   ],
   "execution_count": 70
  },
  {
   "metadata": {
    "ExecuteTime": {
     "end_time": "2024-10-14T12:07:08.245657Z",
     "start_time": "2024-10-14T12:07:08.237078Z"
    }
   },
   "cell_type": "code",
   "source": [
    "for i, name in enumerate(names):\n",
    "    if name.endswith('ов') and ages[i] > 30:\n",
    "        print(name)"
   ],
   "id": "cebf7f2cf2a975f3",
   "outputs": [
    {
     "name": "stdout",
     "output_type": "stream",
     "text": [
      "Орлов\n",
      "Сидоров\n"
     ]
    }
   ],
   "execution_count": 72
  },
  {
   "metadata": {
    "ExecuteTime": {
     "end_time": "2024-10-14T12:08:31.521706Z",
     "start_time": "2024-10-14T12:08:31.513850Z"
    }
   },
   "cell_type": "code",
   "source": [
    "for name, age in zip(names, ages):\n",
    "    if name.endswith('ов') and age > 30:\n",
    "        print(name)"
   ],
   "id": "e5b6a3112619e594",
   "outputs": [
    {
     "name": "stdout",
     "output_type": "stream",
     "text": [
      "Орлов\n",
      "Сидоров\n"
     ]
    }
   ],
   "execution_count": 73
  }
 ],
 "metadata": {
  "kernelspec": {
   "display_name": "Python 3",
   "language": "python",
   "name": "python3"
  },
  "language_info": {
   "codemirror_mode": {
    "name": "ipython",
    "version": 2
   },
   "file_extension": ".py",
   "mimetype": "text/x-python",
   "name": "python",
   "nbconvert_exporter": "python",
   "pygments_lexer": "ipython2",
   "version": "2.7.6"
  }
 },
 "nbformat": 4,
 "nbformat_minor": 5
}
