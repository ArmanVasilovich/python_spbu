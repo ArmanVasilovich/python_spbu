{
 "cells": [
  {
   "metadata": {},
   "cell_type": "markdown",
   "source": "# NumPy",
   "id": "5c2b4427c59de69f"
  },
  {
   "metadata": {
    "ExecuteTime": {
     "end_time": "2024-10-28T06:47:11.366379Z",
     "start_time": "2024-10-28T06:47:11.012990Z"
    }
   },
   "cell_type": "code",
   "source": "import numpy as np",
   "id": "9203ce34e4b3edd7",
   "outputs": [],
   "execution_count": 1
  },
  {
   "metadata": {
    "ExecuteTime": {
     "end_time": "2024-10-28T06:47:11.416670Z",
     "start_time": "2024-10-28T06:47:11.396636Z"
    }
   },
   "cell_type": "code",
   "source": "np.sqrt(16)",
   "id": "31dddf891a3892da",
   "outputs": [
    {
     "data": {
      "text/plain": [
       "np.float64(4.0)"
      ]
     },
     "execution_count": 2,
     "metadata": {},
     "output_type": "execute_result"
    }
   ],
   "execution_count": 2
  },
  {
   "metadata": {
    "ExecuteTime": {
     "end_time": "2024-10-28T06:47:11.740200Z",
     "start_time": "2024-10-28T06:47:11.727002Z"
    }
   },
   "cell_type": "code",
   "source": "np.log(4)",
   "id": "1ee835afb167c75f",
   "outputs": [
    {
     "data": {
      "text/plain": [
       "np.float64(1.3862943611198906)"
      ]
     },
     "execution_count": 3,
     "metadata": {},
     "output_type": "execute_result"
    }
   ],
   "execution_count": 3
  },
  {
   "metadata": {
    "ExecuteTime": {
     "end_time": "2024-10-28T06:47:11.816048Z",
     "start_time": "2024-10-28T06:47:11.801531Z"
    }
   },
   "cell_type": "code",
   "source": "np.mean([20, 40, 30, 450, 45, 30])",
   "id": "5360938f6c21d6a4",
   "outputs": [
    {
     "data": {
      "text/plain": [
       "np.float64(102.5)"
      ]
     },
     "execution_count": 4,
     "metadata": {},
     "output_type": "execute_result"
    }
   ],
   "execution_count": 4
  },
  {
   "metadata": {
    "ExecuteTime": {
     "end_time": "2024-10-28T06:47:11.938832Z",
     "start_time": "2024-10-28T06:47:11.925475Z"
    }
   },
   "cell_type": "code",
   "source": "np.median([20, 40, 30, 450, 45, 30])",
   "id": "c81f4ff1a7790bdc",
   "outputs": [
    {
     "data": {
      "text/plain": [
       "np.float64(35.0)"
      ]
     },
     "execution_count": 5,
     "metadata": {},
     "output_type": "execute_result"
    }
   ],
   "execution_count": 5
  },
  {
   "metadata": {
    "ExecuteTime": {
     "end_time": "2024-10-28T06:47:12.117112Z",
     "start_time": "2024-10-28T06:47:12.099317Z"
    }
   },
   "cell_type": "code",
   "source": "np.array([[2, 3, 4], [1, 2, 3.0]])",
   "id": "d7cd9ae3ba4f299d",
   "outputs": [
    {
     "data": {
      "text/plain": [
       "array([[2., 3., 4.],\n",
       "       [1., 2., 3.]])"
      ]
     },
     "execution_count": 6,
     "metadata": {},
     "output_type": "execute_result"
    }
   ],
   "execution_count": 6
  },
  {
   "metadata": {
    "ExecuteTime": {
     "end_time": "2024-10-28T06:47:12.284700Z",
     "start_time": "2024-10-28T06:47:12.275039Z"
    }
   },
   "cell_type": "code",
   "source": "np.array([[2, 3, '4'], [1, 2, 3.0]])",
   "id": "ec1c758929e3034b",
   "outputs": [
    {
     "data": {
      "text/plain": [
       "array([['2', '3', '4'],\n",
       "       ['1', '2', '3.0']], dtype='<U32')"
      ]
     },
     "execution_count": 7,
     "metadata": {},
     "output_type": "execute_result"
    }
   ],
   "execution_count": 7
  },
  {
   "metadata": {
    "ExecuteTime": {
     "end_time": "2024-10-28T06:47:14.401210Z",
     "start_time": "2024-10-28T06:47:14.388456Z"
    }
   },
   "cell_type": "code",
   "source": "np.array([2, 3, 4])**2",
   "id": "5f5b3937300ec3fa",
   "outputs": [
    {
     "data": {
      "text/plain": [
       "array([ 4,  9, 16])"
      ]
     },
     "execution_count": 8,
     "metadata": {},
     "output_type": "execute_result"
    }
   ],
   "execution_count": 8
  },
  {
   "metadata": {
    "ExecuteTime": {
     "end_time": "2024-10-28T06:47:14.488628Z",
     "start_time": "2024-10-28T06:47:14.472335Z"
    }
   },
   "cell_type": "code",
   "source": "np.array([2, 3, 4])*100",
   "id": "669441d7c1c51dc1",
   "outputs": [
    {
     "data": {
      "text/plain": [
       "array([200, 300, 400])"
      ]
     },
     "execution_count": 9,
     "metadata": {},
     "output_type": "execute_result"
    }
   ],
   "execution_count": 9
  },
  {
   "metadata": {},
   "cell_type": "markdown",
   "source": "**Скалярное усножение 2 * 7 + 3 * 12 + 4 * 8**",
   "id": "9803317b41c938d"
  },
  {
   "metadata": {
    "ExecuteTime": {
     "end_time": "2024-10-28T06:49:14.995500Z",
     "start_time": "2024-10-28T06:49:14.983799Z"
    }
   },
   "cell_type": "code",
   "source": "np.array([2, 3, 4]).dot(np.array([7, 12, 8]))",
   "id": "75b0f23d46a6d232",
   "outputs": [
    {
     "data": {
      "text/plain": [
       "np.int64(82)"
      ]
     },
     "execution_count": 53,
     "metadata": {},
     "output_type": "execute_result"
    }
   ],
   "execution_count": 53
  },
  {
   "metadata": {
    "ExecuteTime": {
     "end_time": "2024-10-28T06:47:15.269419Z",
     "start_time": "2024-10-28T06:47:15.252891Z"
    }
   },
   "cell_type": "code",
   "source": "np.array([2, 3, 4]) + np.array([7, 12, 8])",
   "id": "f0beee52df52e668",
   "outputs": [
    {
     "data": {
      "text/plain": [
       "array([ 9, 15, 12])"
      ]
     },
     "execution_count": 10,
     "metadata": {},
     "output_type": "execute_result"
    }
   ],
   "execution_count": 10
  },
  {
   "metadata": {
    "ExecuteTime": {
     "end_time": "2024-10-28T06:47:16.241739Z",
     "start_time": "2024-10-28T06:47:16.233330Z"
    }
   },
   "cell_type": "code",
   "source": "(np.array([2, 3, 4]) + np.array([7, 12, 8])) / 2",
   "id": "95560a892e96db4a",
   "outputs": [
    {
     "data": {
      "text/plain": [
       "array([4.5, 7.5, 6. ])"
      ]
     },
     "execution_count": 11,
     "metadata": {},
     "output_type": "execute_result"
    }
   ],
   "execution_count": 11
  },
  {
   "metadata": {
    "ExecuteTime": {
     "end_time": "2024-10-28T06:47:16.687971Z",
     "start_time": "2024-10-28T06:47:16.680774Z"
    }
   },
   "cell_type": "code",
   "source": [
    "m = np.array([[2, 5], \n",
    "              [6, 8],\n",
    "              [1, 3]])"
   ],
   "id": "a9b22e765eaec0b1",
   "outputs": [],
   "execution_count": 12
  },
  {
   "metadata": {
    "ExecuteTime": {
     "end_time": "2024-10-28T06:47:16.909486Z",
     "start_time": "2024-10-28T06:47:16.900644Z"
    }
   },
   "cell_type": "code",
   "source": [
    "# Количество измерений\n",
    "m.ndim"
   ],
   "id": "10b7338af35e83b2",
   "outputs": [
    {
     "data": {
      "text/plain": [
       "2"
      ]
     },
     "execution_count": 13,
     "metadata": {},
     "output_type": "execute_result"
    }
   ],
   "execution_count": 13
  },
  {
   "metadata": {
    "ExecuteTime": {
     "end_time": "2024-10-28T06:47:17.281288Z",
     "start_time": "2024-10-28T06:47:17.272725Z"
    }
   },
   "cell_type": "code",
   "source": [
    "# Форма массива\n",
    "m.shape"
   ],
   "id": "fb9171b49e170077",
   "outputs": [
    {
     "data": {
      "text/plain": [
       "(3, 2)"
      ]
     },
     "execution_count": 14,
     "metadata": {},
     "output_type": "execute_result"
    }
   ],
   "execution_count": 14
  },
  {
   "metadata": {
    "ExecuteTime": {
     "end_time": "2024-10-28T06:47:17.505141Z",
     "start_time": "2024-10-28T06:47:17.494233Z"
    }
   },
   "cell_type": "code",
   "source": [
    "# Размер массива\n",
    "m.size"
   ],
   "id": "ce641a2cc08a2a0d",
   "outputs": [
    {
     "data": {
      "text/plain": [
       "6"
      ]
     },
     "execution_count": 15,
     "metadata": {},
     "output_type": "execute_result"
    }
   ],
   "execution_count": 15
  },
  {
   "metadata": {
    "ExecuteTime": {
     "end_time": "2024-10-28T06:47:17.700347Z",
     "start_time": "2024-10-28T06:47:17.688915Z"
    }
   },
   "cell_type": "code",
   "source": "m[1][0]",
   "id": "a2bb2f5f2cf7405",
   "outputs": [
    {
     "data": {
      "text/plain": [
       "np.int64(6)"
      ]
     },
     "execution_count": 16,
     "metadata": {},
     "output_type": "execute_result"
    }
   ],
   "execution_count": 16
  },
  {
   "metadata": {
    "ExecuteTime": {
     "end_time": "2024-10-28T06:47:17.897768Z",
     "start_time": "2024-10-28T06:47:17.870396Z"
    }
   },
   "cell_type": "code",
   "source": "m[1,0]",
   "id": "76399742b251822c",
   "outputs": [
    {
     "data": {
      "text/plain": [
       "np.int64(6)"
      ]
     },
     "execution_count": 17,
     "metadata": {},
     "output_type": "execute_result"
    }
   ],
   "execution_count": 17
  },
  {
   "metadata": {
    "ExecuteTime": {
     "end_time": "2024-10-28T06:47:18.070938Z",
     "start_time": "2024-10-28T06:47:18.061857Z"
    }
   },
   "cell_type": "code",
   "source": "m[1]",
   "id": "bcd128cf4396776b",
   "outputs": [
    {
     "data": {
      "text/plain": [
       "array([6, 8])"
      ]
     },
     "execution_count": 18,
     "metadata": {},
     "output_type": "execute_result"
    }
   ],
   "execution_count": 18
  },
  {
   "metadata": {
    "ExecuteTime": {
     "end_time": "2024-10-28T06:47:18.245621Z",
     "start_time": "2024-10-28T06:47:18.234275Z"
    }
   },
   "cell_type": "code",
   "source": "m[0:2]",
   "id": "962a06ef5cb587c8",
   "outputs": [
    {
     "data": {
      "text/plain": [
       "array([[2, 5],\n",
       "       [6, 8]])"
      ]
     },
     "execution_count": 19,
     "metadata": {},
     "output_type": "execute_result"
    }
   ],
   "execution_count": 19
  },
  {
   "metadata": {
    "ExecuteTime": {
     "end_time": "2024-10-28T06:47:18.511458Z",
     "start_time": "2024-10-28T06:47:18.501441Z"
    }
   },
   "cell_type": "code",
   "source": "m[1:]",
   "id": "79d9dfd59ca984aa",
   "outputs": [
    {
     "data": {
      "text/plain": [
       "array([[6, 8],\n",
       "       [1, 3]])"
      ]
     },
     "execution_count": 20,
     "metadata": {},
     "output_type": "execute_result"
    }
   ],
   "execution_count": 20
  },
  {
   "metadata": {
    "ExecuteTime": {
     "end_time": "2024-10-28T06:47:18.776077Z",
     "start_time": "2024-10-28T06:47:18.767860Z"
    }
   },
   "cell_type": "code",
   "source": "m[::2]",
   "id": "57470c832850380b",
   "outputs": [
    {
     "data": {
      "text/plain": [
       "array([[2, 5],\n",
       "       [1, 3]])"
      ]
     },
     "execution_count": 21,
     "metadata": {},
     "output_type": "execute_result"
    }
   ],
   "execution_count": 21
  },
  {
   "metadata": {
    "ExecuteTime": {
     "end_time": "2024-10-28T06:47:19.154707Z",
     "start_time": "2024-10-28T06:47:19.144424Z"
    }
   },
   "cell_type": "code",
   "source": "m[::-1]",
   "id": "ea72f908f2284ead",
   "outputs": [
    {
     "data": {
      "text/plain": [
       "array([[1, 3],\n",
       "       [6, 8],\n",
       "       [2, 5]])"
      ]
     },
     "execution_count": 22,
     "metadata": {},
     "output_type": "execute_result"
    }
   ],
   "execution_count": 22
  },
  {
   "metadata": {
    "ExecuteTime": {
     "end_time": "2024-10-28T06:47:19.605354Z",
     "start_time": "2024-10-28T06:47:19.596859Z"
    }
   },
   "cell_type": "code",
   "source": "marks = np.array([5, 4, 3, 5, 5, 4, 3, 4])",
   "id": "416819cb8e04b96f",
   "outputs": [],
   "execution_count": 23
  },
  {
   "metadata": {
    "ExecuteTime": {
     "end_time": "2024-10-28T06:47:20.143964Z",
     "start_time": "2024-10-28T06:47:20.125333Z"
    }
   },
   "cell_type": "code",
   "source": "marks.min()",
   "id": "a947d37229f26b74",
   "outputs": [
    {
     "data": {
      "text/plain": [
       "np.int64(3)"
      ]
     },
     "execution_count": 24,
     "metadata": {},
     "output_type": "execute_result"
    }
   ],
   "execution_count": 24
  },
  {
   "metadata": {
    "ExecuteTime": {
     "end_time": "2024-10-28T06:47:20.452129Z",
     "start_time": "2024-10-28T06:47:20.440967Z"
    }
   },
   "cell_type": "code",
   "source": "marks.max()",
   "id": "bab36c1dce8f8835",
   "outputs": [
    {
     "data": {
      "text/plain": [
       "np.int64(5)"
      ]
     },
     "execution_count": 25,
     "metadata": {},
     "output_type": "execute_result"
    }
   ],
   "execution_count": 25
  },
  {
   "metadata": {
    "ExecuteTime": {
     "end_time": "2024-10-28T06:47:20.702143Z",
     "start_time": "2024-10-28T06:47:20.683174Z"
    }
   },
   "cell_type": "code",
   "source": [
    "# Выдает индекс элемента с наибольшим значением\n",
    "marks.argmax()"
   ],
   "id": "8143117d0e8d2f59",
   "outputs": [
    {
     "data": {
      "text/plain": [
       "np.int64(0)"
      ]
     },
     "execution_count": 26,
     "metadata": {},
     "output_type": "execute_result"
    }
   ],
   "execution_count": 26
  },
  {
   "metadata": {
    "ExecuteTime": {
     "end_time": "2024-10-28T06:47:20.930314Z",
     "start_time": "2024-10-28T06:47:20.901552Z"
    }
   },
   "cell_type": "code",
   "source": [
    "# Выдает индекс элемента с наименьшим значением\n",
    "marks.argmin()"
   ],
   "id": "1e21eb77aaa714d3",
   "outputs": [
    {
     "data": {
      "text/plain": [
       "np.int64(2)"
      ]
     },
     "execution_count": 27,
     "metadata": {},
     "output_type": "execute_result"
    }
   ],
   "execution_count": 27
  },
  {
   "metadata": {
    "ExecuteTime": {
     "end_time": "2024-10-28T06:47:21.193228Z",
     "start_time": "2024-10-28T06:47:21.169990Z"
    }
   },
   "cell_type": "code",
   "source": "m",
   "id": "2174bfa8d2a61281",
   "outputs": [
    {
     "data": {
      "text/plain": [
       "array([[2, 5],\n",
       "       [6, 8],\n",
       "       [1, 3]])"
      ]
     },
     "execution_count": 28,
     "metadata": {},
     "output_type": "execute_result"
    }
   ],
   "execution_count": 28
  },
  {
   "metadata": {
    "ExecuteTime": {
     "end_time": "2024-10-28T06:47:21.554491Z",
     "start_time": "2024-10-28T06:47:21.543547Z"
    }
   },
   "cell_type": "code",
   "source": "m.mean(axis = 1)",
   "id": "495dbb865039fc96",
   "outputs": [
    {
     "data": {
      "text/plain": [
       "array([3.5, 7. , 2. ])"
      ]
     },
     "execution_count": 29,
     "metadata": {},
     "output_type": "execute_result"
    }
   ],
   "execution_count": 29
  },
  {
   "metadata": {
    "ExecuteTime": {
     "end_time": "2024-10-28T06:47:21.947865Z",
     "start_time": "2024-10-28T06:47:21.938361Z"
    }
   },
   "cell_type": "code",
   "source": "m.max(axis = 1)",
   "id": "cc7930660ac4b548",
   "outputs": [
    {
     "data": {
      "text/plain": [
       "array([5, 8, 3])"
      ]
     },
     "execution_count": 30,
     "metadata": {},
     "output_type": "execute_result"
    }
   ],
   "execution_count": 30
  },
  {
   "metadata": {
    "ExecuteTime": {
     "end_time": "2024-10-28T06:47:22.367496Z",
     "start_time": "2024-10-28T06:47:22.346028Z"
    }
   },
   "cell_type": "code",
   "source": [
    "# По стобцам\n",
    "m.min(axis = 0)"
   ],
   "id": "6153769849c463b0",
   "outputs": [
    {
     "data": {
      "text/plain": [
       "array([1, 3])"
      ]
     },
     "execution_count": 31,
     "metadata": {},
     "output_type": "execute_result"
    }
   ],
   "execution_count": 31
  },
  {
   "metadata": {
    "ExecuteTime": {
     "end_time": "2024-10-28T06:47:22.598391Z",
     "start_time": "2024-10-28T06:47:22.587986Z"
    }
   },
   "cell_type": "code",
   "source": "np.arange(1, 10)",
   "id": "8d3d860cec814886",
   "outputs": [
    {
     "data": {
      "text/plain": [
       "array([1, 2, 3, 4, 5, 6, 7, 8, 9])"
      ]
     },
     "execution_count": 32,
     "metadata": {},
     "output_type": "execute_result"
    }
   ],
   "execution_count": 32
  },
  {
   "metadata": {
    "ExecuteTime": {
     "end_time": "2024-10-28T06:47:22.796347Z",
     "start_time": "2024-10-28T06:47:22.784821Z"
    }
   },
   "cell_type": "code",
   "source": "np.arange(1, 10, 2)",
   "id": "65aa91b581f3931f",
   "outputs": [
    {
     "data": {
      "text/plain": [
       "array([1, 3, 5, 7, 9])"
      ]
     },
     "execution_count": 33,
     "metadata": {},
     "output_type": "execute_result"
    }
   ],
   "execution_count": 33
  },
  {
   "metadata": {
    "ExecuteTime": {
     "end_time": "2024-10-28T06:47:22.927891Z",
     "start_time": "2024-10-28T06:47:22.915572Z"
    }
   },
   "cell_type": "code",
   "source": [
    "# Генерирует рандомные числа в заданном диапазоне\n",
    "np.linspace(50, 80, 20)"
   ],
   "id": "d342ad05a908b18e",
   "outputs": [
    {
     "data": {
      "text/plain": [
       "array([50.        , 51.57894737, 53.15789474, 54.73684211, 56.31578947,\n",
       "       57.89473684, 59.47368421, 61.05263158, 62.63157895, 64.21052632,\n",
       "       65.78947368, 67.36842105, 68.94736842, 70.52631579, 72.10526316,\n",
       "       73.68421053, 75.26315789, 76.84210526, 78.42105263, 80.        ])"
      ]
     },
     "execution_count": 34,
     "metadata": {},
     "output_type": "execute_result"
    }
   ],
   "execution_count": 34
  },
  {
   "metadata": {
    "ExecuteTime": {
     "end_time": "2024-10-28T06:47:23.076844Z",
     "start_time": "2024-10-28T06:47:23.066450Z"
    }
   },
   "cell_type": "code",
   "source": "np.zeros((3,3))",
   "id": "35f224f83d308814",
   "outputs": [
    {
     "data": {
      "text/plain": [
       "array([[0., 0., 0.],\n",
       "       [0., 0., 0.],\n",
       "       [0., 0., 0.]])"
      ]
     },
     "execution_count": 35,
     "metadata": {},
     "output_type": "execute_result"
    }
   ],
   "execution_count": 35
  },
  {
   "metadata": {
    "ExecuteTime": {
     "end_time": "2024-10-28T06:47:23.345598Z",
     "start_time": "2024-10-28T06:47:23.332255Z"
    }
   },
   "cell_type": "code",
   "source": "np.ones((4,2))",
   "id": "4d235e044ee8808a",
   "outputs": [
    {
     "data": {
      "text/plain": [
       "array([[1., 1.],\n",
       "       [1., 1.],\n",
       "       [1., 1.],\n",
       "       [1., 1.]])"
      ]
     },
     "execution_count": 36,
     "metadata": {},
     "output_type": "execute_result"
    }
   ],
   "execution_count": 36
  },
  {
   "metadata": {
    "ExecuteTime": {
     "end_time": "2024-10-28T06:47:23.530135Z",
     "start_time": "2024-10-28T06:47:23.506907Z"
    }
   },
   "cell_type": "code",
   "source": "np.eye(5)",
   "id": "63dc87fbee1e722a",
   "outputs": [
    {
     "data": {
      "text/plain": [
       "array([[1., 0., 0., 0., 0.],\n",
       "       [0., 1., 0., 0., 0.],\n",
       "       [0., 0., 1., 0., 0.],\n",
       "       [0., 0., 0., 1., 0.],\n",
       "       [0., 0., 0., 0., 1.]])"
      ]
     },
     "execution_count": 37,
     "metadata": {},
     "output_type": "execute_result"
    }
   ],
   "execution_count": 37
  },
  {
   "metadata": {
    "ExecuteTime": {
     "end_time": "2024-10-28T06:47:24.128600Z",
     "start_time": "2024-10-28T06:47:24.075485Z"
    }
   },
   "cell_type": "code",
   "source": [
    "ages = np.array(([15, 23, 32, 45, 52],\n",
    "                 [58, 34, 55, 78, 20],\n",
    "                 [25, 67, 33, 45, 14]))\n",
    "\n",
    "ages"
   ],
   "id": "c901d7250d387dc6",
   "outputs": [
    {
     "data": {
      "text/plain": [
       "array([[15, 23, 32, 45, 52],\n",
       "       [58, 34, 55, 78, 20],\n",
       "       [25, 67, 33, 45, 14]])"
      ]
     },
     "execution_count": 38,
     "metadata": {},
     "output_type": "execute_result"
    }
   ],
   "execution_count": 38
  },
  {
   "metadata": {
    "ExecuteTime": {
     "end_time": "2024-10-28T06:47:24.485156Z",
     "start_time": "2024-10-28T06:47:24.470179Z"
    }
   },
   "cell_type": "code",
   "source": "ages > 20",
   "id": "ba9ee726b2f27e73",
   "outputs": [
    {
     "data": {
      "text/plain": [
       "array([[False,  True,  True,  True,  True],\n",
       "       [ True,  True,  True,  True, False],\n",
       "       [ True,  True,  True,  True, False]])"
      ]
     },
     "execution_count": 39,
     "metadata": {},
     "output_type": "execute_result"
    }
   ],
   "execution_count": 39
  },
  {
   "metadata": {
    "ExecuteTime": {
     "end_time": "2024-10-28T06:47:25.148541Z",
     "start_time": "2024-10-28T06:47:25.131715Z"
    }
   },
   "cell_type": "code",
   "source": [
    "new_arr = (ages > 17) & (ages < 60)\n",
    "new_arr"
   ],
   "id": "fdc839b02aaaf60b",
   "outputs": [
    {
     "data": {
      "text/plain": [
       "array([[False,  True,  True,  True,  True],\n",
       "       [ True,  True,  True, False,  True],\n",
       "       [ True, False,  True,  True, False]])"
      ]
     },
     "execution_count": 40,
     "metadata": {},
     "output_type": "execute_result"
    }
   ],
   "execution_count": 40
  },
  {
   "metadata": {
    "ExecuteTime": {
     "end_time": "2024-10-28T06:47:25.744796Z",
     "start_time": "2024-10-28T06:47:25.731672Z"
    }
   },
   "cell_type": "code",
   "source": "new_arr.sum()",
   "id": "4461af2ebcd043ab",
   "outputs": [
    {
     "data": {
      "text/plain": [
       "np.int64(11)"
      ]
     },
     "execution_count": 41,
     "metadata": {},
     "output_type": "execute_result"
    }
   ],
   "execution_count": 41
  },
  {
   "metadata": {
    "ExecuteTime": {
     "end_time": "2024-10-28T06:47:26.498947Z",
     "start_time": "2024-10-28T06:47:26.489018Z"
    }
   },
   "cell_type": "code",
   "source": [
    "new_arr = ages[(ages > 17) & (ages < 57)]\n",
    "new_arr"
   ],
   "id": "11d7501c8cc7b596",
   "outputs": [
    {
     "data": {
      "text/plain": [
       "array([23, 32, 45, 52, 34, 55, 20, 25, 33, 45])"
      ]
     },
     "execution_count": 42,
     "metadata": {},
     "output_type": "execute_result"
    }
   ],
   "execution_count": 42
  },
  {
   "metadata": {
    "ExecuteTime": {
     "end_time": "2024-10-28T06:47:26.978122Z",
     "start_time": "2024-10-28T06:47:26.969755Z"
    }
   },
   "cell_type": "code",
   "source": [
    "new_arr.reshape(5, 2)\n",
    "new_arr.flatten()"
   ],
   "id": "3d4d2d36e9ae3ebc",
   "outputs": [
    {
     "data": {
      "text/plain": [
       "array([23, 32, 45, 52, 34, 55, 20, 25, 33, 45])"
      ]
     },
     "execution_count": 43,
     "metadata": {},
     "output_type": "execute_result"
    }
   ],
   "execution_count": 43
  },
  {
   "metadata": {
    "ExecuteTime": {
     "end_time": "2024-10-28T06:47:27.295095Z",
     "start_time": "2024-10-28T06:47:27.287479Z"
    }
   },
   "cell_type": "code",
   "source": "new_arr.transpose()",
   "id": "eb1a192fcbd204ae",
   "outputs": [
    {
     "data": {
      "text/plain": [
       "array([23, 32, 45, 52, 34, 55, 20, 25, 33, 45])"
      ]
     },
     "execution_count": 44,
     "metadata": {},
     "output_type": "execute_result"
    }
   ],
   "execution_count": 44
  },
  {
   "metadata": {
    "ExecuteTime": {
     "end_time": "2024-10-28T06:47:27.480371Z",
     "start_time": "2024-10-28T06:47:27.471109Z"
    }
   },
   "cell_type": "code",
   "source": "new_arr.T",
   "id": "66cca19c8f753b61",
   "outputs": [
    {
     "data": {
      "text/plain": [
       "array([23, 32, 45, 52, 34, 55, 20, 25, 33, 45])"
      ]
     },
     "execution_count": 45,
     "metadata": {},
     "output_type": "execute_result"
    }
   ],
   "execution_count": 45
  },
  {
   "metadata": {
    "ExecuteTime": {
     "end_time": "2024-10-28T06:47:27.675439Z",
     "start_time": "2024-10-28T06:47:27.665429Z"
    }
   },
   "cell_type": "code",
   "source": "m[0][0] = 10 ",
   "id": "6a0ec929a2c3e3e7",
   "outputs": [],
   "execution_count": 46
  },
  {
   "metadata": {
    "ExecuteTime": {
     "end_time": "2024-10-28T06:47:27.756830Z",
     "start_time": "2024-10-28T06:47:27.743667Z"
    }
   },
   "cell_type": "code",
   "source": "m",
   "id": "ede23234628f8814",
   "outputs": [
    {
     "data": {
      "text/plain": [
       "array([[10,  5],\n",
       "       [ 6,  8],\n",
       "       [ 1,  3]])"
      ]
     },
     "execution_count": 47,
     "metadata": {},
     "output_type": "execute_result"
    }
   ],
   "execution_count": 47
  },
  {
   "metadata": {
    "ExecuteTime": {
     "end_time": "2024-10-28T06:47:28.028528Z",
     "start_time": "2024-10-28T06:47:28.021405Z"
    }
   },
   "cell_type": "code",
   "source": [
    "income = np.array([[20_000, 30_000, 25_000, 700_000],\n",
    "                   [23_000, 35_000, 20_000, 32_000]])"
   ],
   "id": "e1272d17fc5b50fc",
   "outputs": [],
   "execution_count": 48
  },
  {
   "metadata": {
    "ExecuteTime": {
     "end_time": "2024-10-28T06:47:28.290606Z",
     "start_time": "2024-10-28T06:47:28.282670Z"
    }
   },
   "cell_type": "code",
   "source": "income_log = np.log(income)",
   "id": "a58848546703b183",
   "outputs": [],
   "execution_count": 49
  },
  {
   "metadata": {
    "ExecuteTime": {
     "end_time": "2024-10-28T06:47:32.012568Z",
     "start_time": "2024-10-28T06:47:28.436031Z"
    }
   },
   "cell_type": "code",
   "source": "import matplotlib.pyplot as plt",
   "id": "e83b4172d07fab02",
   "outputs": [],
   "execution_count": 50
  },
  {
   "metadata": {
    "ExecuteTime": {
     "end_time": "2024-10-28T06:47:32.829167Z",
     "start_time": "2024-10-28T06:47:32.157418Z"
    }
   },
   "cell_type": "code",
   "source": "plt.plot(np.arange(8), income.flatten(), 'bo')",
   "id": "df1cf860cf8a59cf",
   "outputs": [
    {
     "data": {
      "text/plain": [
       "[<matplotlib.lines.Line2D at 0x10d708a70>]"
      ]
     },
     "execution_count": 51,
     "metadata": {},
     "output_type": "execute_result"
    },
    {
     "data": {
      "text/plain": [
       "<Figure size 640x480 with 1 Axes>"
      ],
      "image/png": "[encoded data removed]"
     },
     "metadata": {},
     "output_type": "display_data"
    }
   ],
   "execution_count": 51
  },
  {
   "metadata": {
    "ExecuteTime": {
     "end_time": "2024-10-28T06:47:33.692138Z",
     "start_time": "2024-10-28T06:47:33.274191Z"
    }
   },
   "cell_type": "code",
   "source": "plt.plot(np.arange(8), income_log.flatten(), 'bo')",
   "id": "3b4d8c8a86b2d3ee",
   "outputs": [
    {
     "data": {
      "text/plain": [
       "[<matplotlib.lines.Line2D at 0x10d78f950>]"
      ]
     },
     "execution_count": 52,
     "metadata": {},
     "output_type": "execute_result"
    },
    {
     "data": {
      "text/plain": [
       "<Figure size 640x480 with 1 Axes>"
      ],
      "image/png": "[encoded data removed]"
     },
     "metadata": {},
     "output_type": "display_data"
    }
   ],
   "execution_count": 52
  },
  {
   "metadata": {
    "ExecuteTime": {
     "end_time": "2024-10-28T06:54:57.709973Z",
     "start_time": "2024-10-28T06:54:57.688851Z"
    }
   },
   "cell_type": "code",
   "source": [
    "m = np.array([3, 5, 7, 9, 8, 10]).reshape(3, 2)\n",
    "m"
   ],
   "id": "5dbcd90d06883243",
   "outputs": [
    {
     "data": {
      "text/plain": [
       "array([[ 3,  5],\n",
       "       [ 7,  9],\n",
       "       [ 8, 10]])"
      ]
     },
     "execution_count": 55,
     "metadata": {},
     "output_type": "execute_result"
    }
   ],
   "execution_count": 55
  },
  {
   "metadata": {
    "ExecuteTime": {
     "end_time": "2024-10-28T06:55:45.556980Z",
     "start_time": "2024-10-28T06:55:45.551561Z"
    }
   },
   "cell_type": "code",
   "source": "new_arr = m",
   "id": "44fcb1a8cccb2389",
   "outputs": [],
   "execution_count": 56
  },
  {
   "metadata": {
    "ExecuteTime": {
     "end_time": "2024-10-28T06:55:56.655955Z",
     "start_time": "2024-10-28T06:55:56.646966Z"
    }
   },
   "cell_type": "code",
   "source": "new_arr",
   "id": "322091f817097364",
   "outputs": [
    {
     "data": {
      "text/plain": [
       "array([[ 3,  5],\n",
       "       [ 7,  9],\n",
       "       [ 8, 10]])"
      ]
     },
     "execution_count": 57,
     "metadata": {},
     "output_type": "execute_result"
    }
   ],
   "execution_count": 57
  },
  {
   "metadata": {
    "ExecuteTime": {
     "end_time": "2024-10-28T06:56:32.523156Z",
     "start_time": "2024-10-28T06:56:32.517703Z"
    }
   },
   "cell_type": "code",
   "source": "new_arr[0][0] = 10",
   "id": "67cb91be1cebead6",
   "outputs": [],
   "execution_count": 58
  },
  {
   "metadata": {
    "ExecuteTime": {
     "end_time": "2024-10-28T06:57:09.171988Z",
     "start_time": "2024-10-28T06:57:09.164213Z"
    }
   },
   "cell_type": "code",
   "source": [
    "print(new_arr)\n",
    "print()\n",
    "print(m)"
   ],
   "id": "71f0dd38c1d18a3f",
   "outputs": [
    {
     "name": "stdout",
     "output_type": "stream",
     "text": [
      "[[10  5]\n",
      " [ 7  9]\n",
      " [ 8 10]]\n",
      "\n",
      "[[10  5]\n",
      " [ 7  9]\n",
      " [ 8 10]]\n"
     ]
    }
   ],
   "execution_count": 60
  },
  {
   "metadata": {
    "ExecuteTime": {
     "end_time": "2024-10-28T07:00:17.775965Z",
     "start_time": "2024-10-28T07:00:17.764993Z"
    }
   },
   "cell_type": "code",
   "source": [
    "arr = m.copy()\n",
    "arr[0][0] = 100\n",
    "print(arr)\n",
    "print()\n",
    "print(m)"
   ],
   "id": "a87f6efc2a235287",
   "outputs": [
    {
     "name": "stdout",
     "output_type": "stream",
     "text": [
      "[[100   5]\n",
      " [  7   9]\n",
      " [  8  10]]\n",
      "\n",
      "[[10  5]\n",
      " [ 7  9]\n",
      " [ 8 10]]\n"
     ]
    }
   ],
   "execution_count": 63
  },
  {
   "metadata": {
    "ExecuteTime": {
     "end_time": "2024-10-28T07:02:05.050972Z",
     "start_time": "2024-10-28T07:02:05.023736Z"
    }
   },
   "cell_type": "code",
   "source": [
    "arr[0:2] = [[35, 47], [54, 93]]\n",
    "print(arr)"
   ],
   "id": "33972b3ecc700c2b",
   "outputs": [
    {
     "name": "stdout",
     "output_type": "stream",
     "text": [
      "[[35 47]\n",
      " [54 93]\n",
      " [ 8 10]]\n"
     ]
    }
   ],
   "execution_count": 64
  },
  {
   "metadata": {
    "ExecuteTime": {
     "end_time": "2024-10-28T07:03:55.004648Z",
     "start_time": "2024-10-28T07:03:54.992296Z"
    }
   },
   "cell_type": "code",
   "source": "arr = arr.flatten()",
   "id": "e147cefcebd5e",
   "outputs": [],
   "execution_count": 65
  },
  {
   "metadata": {
    "ExecuteTime": {
     "end_time": "2024-10-28T07:04:09.179685Z",
     "start_time": "2024-10-28T07:04:09.165983Z"
    }
   },
   "cell_type": "code",
   "source": "print(arr)",
   "id": "8249e6e67161b996",
   "outputs": [
    {
     "name": "stdout",
     "output_type": "stream",
     "text": [
      "[35 47 54 93  8 10]\n"
     ]
    }
   ],
   "execution_count": 66
  },
  {
   "metadata": {
    "ExecuteTime": {
     "end_time": "2024-10-28T07:04:28.164150Z",
     "start_time": "2024-10-28T07:04:28.151865Z"
    }
   },
   "cell_type": "code",
   "source": "np.sum(arr)",
   "id": "c95ffc242fb58b31",
   "outputs": [
    {
     "data": {
      "text/plain": [
       "np.int64(247)"
      ]
     },
     "execution_count": 68,
     "metadata": {},
     "output_type": "execute_result"
    }
   ],
   "execution_count": 68
  },
  {
   "metadata": {},
   "cell_type": "markdown",
   "source": "np.prod умножает все значения массива",
   "id": "49a0fe2557be50f7"
  },
  {
   "metadata": {
    "ExecuteTime": {
     "end_time": "2024-10-28T07:04:46.283569Z",
     "start_time": "2024-10-28T07:04:46.264099Z"
    }
   },
   "cell_type": "code",
   "source": "np.prod(arr)",
   "id": "2be74d60610f1438",
   "outputs": [
    {
     "data": {
      "text/plain": [
       "np.int64(660895200)"
      ]
     },
     "execution_count": 69,
     "metadata": {},
     "output_type": "execute_result"
    }
   ],
   "execution_count": 69
  },
  {
   "metadata": {},
   "cell_type": "markdown",
   "source": "# Объект Datetime",
   "id": "9dc4923ff1f88ab5"
  },
  {
   "metadata": {
    "ExecuteTime": {
     "end_time": "2024-10-28T07:11:59.449231Z",
     "start_time": "2024-10-28T07:11:59.433251Z"
    }
   },
   "cell_type": "code",
   "source": [
    "d1 = '2024-10-18'\n",
    "d2 = '2024-10-28'"
   ],
   "id": "e34454b8d4d18fb9",
   "outputs": [],
   "execution_count": 81
  },
  {
   "metadata": {
    "ExecuteTime": {
     "end_time": "2024-10-28T07:12:00.831569Z",
     "start_time": "2024-10-28T07:12:00.788682Z"
    }
   },
   "cell_type": "code",
   "source": "d2 - d1",
   "id": "b9204d93f373d8d7",
   "outputs": [
    {
     "ename": "TypeError",
     "evalue": "unsupported operand type(s) for -: 'str' and 'str'",
     "output_type": "error",
     "traceback": [
      "\u001B[0;31m---------------------------------------------------------------------------\u001B[0m",
      "\u001B[0;31mTypeError\u001B[0m                                 Traceback (most recent call last)",
      "Cell \u001B[0;32mIn[82], line 1\u001B[0m\n\u001B[0;32m----> 1\u001B[0m \u001B[43md2\u001B[49m\u001B[43m \u001B[49m\u001B[38;5;241;43m-\u001B[39;49m\u001B[43m \u001B[49m\u001B[43md1\u001B[49m\n",
      "\u001B[0;31mTypeError\u001B[0m: unsupported operand type(s) for -: 'str' and 'str'"
     ]
    }
   ],
   "execution_count": 82
  },
  {
   "metadata": {},
   "cell_type": "markdown",
   "source": "Объекты Datatime приходят в формате строк (str)",
   "id": "55792bf37d0f3933"
  },
  {
   "metadata": {
    "ExecuteTime": {
     "end_time": "2024-10-28T07:12:04.330796Z",
     "start_time": "2024-10-28T07:12:04.318179Z"
    }
   },
   "cell_type": "code",
   "source": [
    "start = np.datetime64(d1)\n",
    "finish = np.datetime64(d2)\n",
    "start"
   ],
   "id": "387f1f7ce492c72c",
   "outputs": [
    {
     "data": {
      "text/plain": [
       "np.datetime64('2024-10-18')"
      ]
     },
     "execution_count": 83,
     "metadata": {},
     "output_type": "execute_result"
    }
   ],
   "execution_count": 83
  },
  {
   "metadata": {
    "ExecuteTime": {
     "end_time": "2024-10-28T07:12:07.835819Z",
     "start_time": "2024-10-28T07:12:07.820334Z"
    }
   },
   "cell_type": "code",
   "source": "finish-start",
   "id": "49c347835c59628a",
   "outputs": [
    {
     "data": {
      "text/plain": [
       "np.timedelta64(10,'D')"
      ]
     },
     "execution_count": 84,
     "metadata": {},
     "output_type": "execute_result"
    }
   ],
   "execution_count": 84
  },
  {
   "metadata": {},
   "cell_type": "markdown",
   "source": "# Структурированные списки",
   "id": "acc5d3199f056051"
  },
  {
   "metadata": {
    "ExecuteTime": {
     "end_time": "2024-10-28T07:18:52.019898Z",
     "start_time": "2024-10-28T07:18:51.998261Z"
    }
   },
   "cell_type": "code",
   "source": [
    "info = np.array([('Anna', 19, 168),\n",
    "                 ('Ivan', 33, 175.5),\n",
    "                 ('Yan', 23, 180)],\n",
    "                dtype=[('name', 'U10'),\n",
    "                       ('age', int),\n",
    "                       ('height', float)])"
   ],
   "id": "ef716ad7562a3b26",
   "outputs": [],
   "execution_count": 86
  },
  {
   "metadata": {
    "ExecuteTime": {
     "end_time": "2024-10-28T07:18:53.742699Z",
     "start_time": "2024-10-28T07:18:53.726578Z"
    }
   },
   "cell_type": "code",
   "source": "info",
   "id": "ee0654a5da53d7a9",
   "outputs": [
    {
     "data": {
      "text/plain": [
       "array([('Anna', 19, 168. ), ('Ivan', 33, 175.5), ('Yan', 23, 180. )],\n",
       "      dtype=[('name', '<U10'), ('age', '<i8'), ('height', '<f8')])"
      ]
     },
     "execution_count": 87,
     "metadata": {},
     "output_type": "execute_result"
    }
   ],
   "execution_count": 87
  },
  {
   "metadata": {
    "ExecuteTime": {
     "end_time": "2024-10-28T07:19:06.165022Z",
     "start_time": "2024-10-28T07:19:06.156406Z"
    }
   },
   "cell_type": "code",
   "source": "print(info)",
   "id": "e5a7e49e110cf12f",
   "outputs": [
    {
     "name": "stdout",
     "output_type": "stream",
     "text": [
      "[('Anna', 19, 168. ) ('Ivan', 33, 175.5) ('Yan', 23, 180. )]\n"
     ]
    }
   ],
   "execution_count": 88
  },
  {
   "metadata": {
    "ExecuteTime": {
     "end_time": "2024-10-28T07:21:54.357845Z",
     "start_time": "2024-10-28T07:21:54.349464Z"
    }
   },
   "cell_type": "code",
   "source": "print(info[0])",
   "id": "54c859927fe03f9f",
   "outputs": [
    {
     "name": "stdout",
     "output_type": "stream",
     "text": [
      "('Anna', 19, 168.0)\n"
     ]
    }
   ],
   "execution_count": 90
  },
  {
   "metadata": {
    "ExecuteTime": {
     "end_time": "2024-10-28T07:22:54.646363Z",
     "start_time": "2024-10-28T07:22:54.635048Z"
    }
   },
   "cell_type": "code",
   "source": "info['name']",
   "id": "f1d85d97ce641ebd",
   "outputs": [
    {
     "data": {
      "text/plain": [
       "array(['Anna', 'Ivan', 'Yan'], dtype='<U10')"
      ]
     },
     "execution_count": 94,
     "metadata": {},
     "output_type": "execute_result"
    }
   ],
   "execution_count": 94
  },
  {
   "metadata": {
    "ExecuteTime": {
     "end_time": "2024-10-28T07:23:44.391113Z",
     "start_time": "2024-10-28T07:23:44.385778Z"
    }
   },
   "cell_type": "code",
   "source": "print(info[['name', 'age']])",
   "id": "dcf64360294eef31",
   "outputs": [
    {
     "name": "stdout",
     "output_type": "stream",
     "text": [
      "[('Anna', 19) ('Ivan', 33) ('Yan', 23)]\n"
     ]
    }
   ],
   "execution_count": 97
  },
  {
   "metadata": {
    "ExecuteTime": {
     "end_time": "2024-10-28T07:25:45.398911Z",
     "start_time": "2024-10-28T07:25:45.390703Z"
    }
   },
   "cell_type": "code",
   "source": [
    "info[2] = ('Petr', 22, 195)\n",
    "print(info[2])"
   ],
   "id": "99429197c5846b14",
   "outputs": [
    {
     "name": "stdout",
     "output_type": "stream",
     "text": [
      "('Petr', 22, 195.0)\n"
     ]
    }
   ],
   "execution_count": 100
  },
  {
   "metadata": {
    "ExecuteTime": {
     "end_time": "2024-10-28T07:26:46.797954Z",
     "start_time": "2024-10-28T07:26:46.789956Z"
    }
   },
   "cell_type": "code",
   "source": [
    "info['age'][0] = 25\n",
    "print(info)"
   ],
   "id": "d7d236a756ffd640",
   "outputs": [
    {
     "name": "stdout",
     "output_type": "stream",
     "text": [
      "[('Anna', 25, 168. ) ('Ivan', 33, 175.5) ('Petr', 22, 195. )]\n"
     ]
    }
   ],
   "execution_count": 101
  },
  {
   "metadata": {},
   "cell_type": "markdown",
   "source": "#  Практика",
   "id": "85566f27c0104932"
  },
  {
   "metadata": {
    "ExecuteTime": {
     "end_time": "2024-10-28T07:28:56.086771Z",
     "start_time": "2024-10-28T07:28:56.063869Z"
    }
   },
   "cell_type": "code",
   "source": [
    "arr = np.random.randint(0, 50, 100).reshape(10, 10)\n",
    "arr"
   ],
   "id": "36f89c5a5c64fdd",
   "outputs": [
    {
     "data": {
      "text/plain": [
       "array([[27, 45, 18, 42,  7, 35, 45, 45, 35, 14],\n",
       "       [15, 47, 13, 11, 15, 45, 43, 42,  9, 41],\n",
       "       [13, 23, 35, 27, 15, 31,  2,  2, 25, 41],\n",
       "       [24, 39, 21, 13, 23, 49, 17, 24, 20, 41],\n",
       "       [43, 19, 46,  6, 48, 19,  8, 28,  9, 14],\n",
       "       [13, 17, 15, 10, 30, 21, 30, 22, 23, 10],\n",
       "       [ 9, 44, 37,  4, 45, 14, 43, 34, 22, 21],\n",
       "       [40, 39, 17, 36, 23, 37, 46, 31, 30, 19],\n",
       "       [18, 45,  6, 10, 23,  2, 49, 12, 46, 36],\n",
       "       [32, 45, 14,  1, 11, 11, 20, 31, 48, 43]])"
      ]
     },
     "execution_count": 104,
     "metadata": {},
     "output_type": "execute_result"
    }
   ],
   "execution_count": 104
  },
  {
   "metadata": {
    "ExecuteTime": {
     "end_time": "2024-10-28T07:31:20.679984Z",
     "start_time": "2024-10-28T07:31:20.664545Z"
    }
   },
   "cell_type": "code",
   "source": [
    "result = (arr>5)\n",
    "result.sum()"
   ],
   "id": "b40a2748515eff88",
   "outputs": [
    {
     "data": {
      "text/plain": [
       "np.int64(95)"
      ]
     },
     "execution_count": 108,
     "metadata": {},
     "output_type": "execute_result"
    }
   ],
   "execution_count": 108
  },
  {
   "metadata": {},
   "cell_type": "markdown",
   "source": "**Записываем значения в переменную, которые подходят по условиям**",
   "id": "a6f30eaa7699145f"
  },
  {
   "metadata": {
    "ExecuteTime": {
     "end_time": "2024-10-28T07:38:57.400874Z",
     "start_time": "2024-10-28T07:38:57.386497Z"
    }
   },
   "cell_type": "code",
   "source": [
    "result = arr[(arr >= 30) & (arr <= 45)]\n",
    "result"
   ],
   "id": "72b1fae82cb8f584",
   "outputs": [
    {
     "data": {
      "text/plain": [
       "array([45, 42, 35, 45, 45, 35, 45, 43, 42, 41, 35, 31, 41, 39, 41, 43, 30,\n",
       "       30, 44, 37, 45, 43, 34, 40, 39, 36, 37, 31, 30, 45, 36, 32, 45, 31,\n",
       "       43])"
      ]
     },
     "execution_count": 115,
     "metadata": {},
     "output_type": "execute_result"
    }
   ],
   "execution_count": 115
  },
  {
   "metadata": {
    "ExecuteTime": {
     "end_time": "2024-10-28T07:39:50.272840Z",
     "start_time": "2024-10-28T07:39:50.265014Z"
    }
   },
   "cell_type": "code",
   "source": "result.size",
   "id": "7418ad13b20fcf04",
   "outputs": [
    {
     "data": {
      "text/plain": [
       "35"
      ]
     },
     "execution_count": 116,
     "metadata": {},
     "output_type": "execute_result"
    }
   ],
   "execution_count": 116
  },
  {
   "metadata": {
    "ExecuteTime": {
     "end_time": "2024-10-28T07:32:29.050537Z",
     "start_time": "2024-10-28T07:32:29.039507Z"
    }
   },
   "cell_type": "code",
   "source": "arr.shape",
   "id": "9c35f0f61b00d84b",
   "outputs": [
    {
     "data": {
      "text/plain": [
       "(10, 10)"
      ]
     },
     "execution_count": 110,
     "metadata": {},
     "output_type": "execute_result"
    }
   ],
   "execution_count": 110
  },
  {
   "metadata": {
    "ExecuteTime": {
     "end_time": "2024-10-28T07:33:22.944752Z",
     "start_time": "2024-10-28T07:33:22.932798Z"
    }
   },
   "cell_type": "code",
   "source": [
    "# Стреднее значение по строкам\n",
    "arr.mean(axis = 1)"
   ],
   "id": "8ea7664c7c7eb5f9",
   "outputs": [
    {
     "data": {
      "text/plain": [
       "array([31.3, 28.1, 21.4, 27.1, 24. , 19.1, 27.3, 31.8, 24.7, 25.6])"
      ]
     },
     "execution_count": 111,
     "metadata": {},
     "output_type": "execute_result"
    }
   ],
   "execution_count": 111
  },
  {
   "metadata": {
    "ExecuteTime": {
     "end_time": "2024-10-28T07:36:42.219973Z",
     "start_time": "2024-10-28T07:36:42.206536Z"
    }
   },
   "cell_type": "code",
   "source": [
    "# Среднее значение по столбцам\n",
    "arr.mean(axis = 0).argmax()"
   ],
   "id": "78e4b2a9384d4a2c",
   "outputs": [
    {
     "data": {
      "text/plain": [
       "np.int64(1)"
      ]
     },
     "execution_count": 113,
     "metadata": {},
     "output_type": "execute_result"
    }
   ],
   "execution_count": 113
  }
 ],
 "metadata": {
  "kernelspec": {
   "display_name": "Python 3",
   "language": "python",
   "name": "python3"
  },
  "language_info": {
   "codemirror_mode": {
    "name": "ipython",
    "version": 2
   },
   "file_extension": ".py",
   "mimetype": "text/x-python",
   "name": "python",
   "nbconvert_exporter": "python",
   "pygments_lexer": "ipython2",
   "version": "2.7.6"
  }
 },
 "nbformat": 4,
 "nbformat_minor": 5
}
