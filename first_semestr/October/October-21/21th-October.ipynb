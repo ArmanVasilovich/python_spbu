{
 "cells": [
  {
   "cell_type": "code",
   "id": "initial_id",
   "metadata": {
    "collapsed": true,
    "ExecuteTime": {
     "end_time": "2024-10-21T09:24:54.276932Z",
     "start_time": "2024-10-21T09:24:54.260286Z"
    }
   },
   "source": [
    "class Student:\n",
    "    def __init__(self, name, age):\n",
    "        self.name = name\n",
    "        self.age = age"
   ],
   "outputs": [],
   "execution_count": 107
  },
  {
   "metadata": {
    "ExecuteTime": {
     "end_time": "2024-10-21T09:24:54.315113Z",
     "start_time": "2024-10-21T09:24:54.297295Z"
    }
   },
   "cell_type": "code",
   "source": [
    "students = []\n",
    "students.append(Student('Петров', 18))\n",
    "students.append(Student('Иванов', 23))\n",
    "students.append(Student('Сидоров', 19))\n",
    "students.append(Student('Колмаков', 15))\n",
    "students.append(Student('Петраков', 27))\n",
    "students.append(Student('Smith', 32))\n",
    "students.append(Student('Stuart', 22))\n",
    "students.append(Student('Rassel', 17))"
   ],
   "id": "6327bb010bb05622",
   "outputs": [],
   "execution_count": 108
  },
  {
   "metadata": {
    "ExecuteTime": {
     "end_time": "2024-10-21T09:24:54.389065Z",
     "start_time": "2024-10-21T09:24:54.380003Z"
    }
   },
   "cell_type": "code",
   "source": [
    "for i in students:\n",
    "    if i.name.endswith('ов') and i.age >= 18:\n",
    "        print(i.name)"
   ],
   "id": "2086fb26b6098bc5",
   "outputs": [
    {
     "name": "stdout",
     "output_type": "stream",
     "text": [
      "Петров\n",
      "Иванов\n",
      "Сидоров\n",
      "Петраков\n"
     ]
    }
   ],
   "execution_count": 109
  },
  {
   "metadata": {},
   "cell_type": "markdown",
   "source": "# Наследование",
   "id": "e55be4f7ba045f3d"
  },
  {
   "metadata": {
    "ExecuteTime": {
     "end_time": "2024-10-21T09:24:54.466429Z",
     "start_time": "2024-10-21T09:24:54.456846Z"
    }
   },
   "cell_type": "code",
   "source": [
    "class Parent:\n",
    "    parent_attr = 100\n",
    "    \n",
    "    def __init__(self): \n",
    "        print('Вызов родительского конструктора')\n",
    "\n",
    "    def parent_method(self):\n",
    "        print('Вызов родительского метода')\n",
    "        \n",
    "    def set_attr(self, attr):\n",
    "        Parent.parent_attr = attr\n",
    "    \n",
    "    def get_attr(self):\n",
    "        print(f'Атрибут родителя: {Parent.parent_attr}')"
   ],
   "id": "71243f8579a3930e",
   "outputs": [],
   "execution_count": 110
  },
  {
   "metadata": {
    "ExecuteTime": {
     "end_time": "2024-10-21T09:24:54.529428Z",
     "start_time": "2024-10-21T09:24:54.510881Z"
    }
   },
   "cell_type": "code",
   "source": [
    "class Child(Parent):\n",
    "    def child_method(self):\n",
    "        print('Вызов метода класса наследника')"
   ],
   "id": "3b354d4ec6a13436",
   "outputs": [],
   "execution_count": 111
  },
  {
   "metadata": {
    "ExecuteTime": {
     "end_time": "2024-10-21T09:24:54.577444Z",
     "start_time": "2024-10-21T09:24:54.568147Z"
    }
   },
   "cell_type": "code",
   "source": "myClass = Child()",
   "id": "d1b78f87c849b7f3",
   "outputs": [
    {
     "name": "stdout",
     "output_type": "stream",
     "text": [
      "Вызов родительского конструктора\n"
     ]
    }
   ],
   "execution_count": 112
  },
  {
   "metadata": {
    "ExecuteTime": {
     "end_time": "2024-10-21T09:24:54.724984Z",
     "start_time": "2024-10-21T09:24:54.710627Z"
    }
   },
   "cell_type": "code",
   "source": "myClass.child_method()",
   "id": "18feb03db5f34de4",
   "outputs": [
    {
     "name": "stdout",
     "output_type": "stream",
     "text": [
      "Вызов метода класса наследника\n"
     ]
    }
   ],
   "execution_count": 113
  },
  {
   "metadata": {
    "ExecuteTime": {
     "end_time": "2024-10-21T09:24:54.821534Z",
     "start_time": "2024-10-21T09:24:54.812551Z"
    }
   },
   "cell_type": "code",
   "source": "myClass.parent_method()",
   "id": "322a99ab7dbdef79",
   "outputs": [
    {
     "name": "stdout",
     "output_type": "stream",
     "text": [
      "Вызов родительского метода\n"
     ]
    }
   ],
   "execution_count": 114
  },
  {
   "metadata": {
    "ExecuteTime": {
     "end_time": "2024-10-21T09:24:54.924734Z",
     "start_time": "2024-10-21T09:24:54.918834Z"
    }
   },
   "cell_type": "code",
   "source": "myClass.set_attr(200)",
   "id": "25589be83bee3623",
   "outputs": [],
   "execution_count": 115
  },
  {
   "metadata": {
    "ExecuteTime": {
     "end_time": "2024-10-21T09:24:55.011774Z",
     "start_time": "2024-10-21T09:24:55.000048Z"
    }
   },
   "cell_type": "code",
   "source": "myClass.get_attr()",
   "id": "ba049cbee8e883a",
   "outputs": [
    {
     "name": "stdout",
     "output_type": "stream",
     "text": [
      "Атрибут родителя: 200\n"
     ]
    }
   ],
   "execution_count": 116
  },
  {
   "metadata": {
    "ExecuteTime": {
     "end_time": "2024-10-21T09:24:55.078820Z",
     "start_time": "2024-10-21T09:24:55.069572Z"
    }
   },
   "cell_type": "code",
   "source": [
    "class Person:\n",
    "    def __init__(self, name, age):\n",
    "        self.__name = name\n",
    "        self.__age = age\n",
    "        \n",
    "    def Introduce(self):\n",
    "        print(f'Мое имя - {self.__name}, возраст - {self.__age}')\n",
    "    \n",
    "    @property\n",
    "    def age(self):\n",
    "        return self.__age\n",
    "    \n",
    "    @age.setter\n",
    "    def age(self, age):\n",
    "        if age >= 18 and age >= 65:\n",
    "            self.__age = age\n",
    "        else:\n",
    "            raise ValueError('Вы ввели некорректный возраст')"
   ],
   "id": "af58f76a54af2b84",
   "outputs": [],
   "execution_count": 117
  },
  {
   "metadata": {
    "ExecuteTime": {
     "end_time": "2024-10-21T09:24:55.134399Z",
     "start_time": "2024-10-21T09:24:55.120065Z"
    }
   },
   "cell_type": "code",
   "source": [
    "class Student(Person):\n",
    "    def __init__(self, name, age, course):\n",
    "        super().__init__(name, age)\n",
    "        self.course = course\n",
    "    \n",
    "    def introduce(self):\n",
    "        super().Introduce()\n",
    "        print(f'Я на {self.course} курсе')\n",
    "    \n",
    "    def set_age(self, age):\n",
    "        if age >= 18 and age >= 65:\n",
    "            self.__age = age\n",
    "        else:\n",
    "            raise ValueError('Вы ввели некорректный возраст')\n",
    "    def get_age(self):\n",
    "        return self.__age"
   ],
   "id": "10ed71470b421f64",
   "outputs": [],
   "execution_count": 118
  },
  {
   "metadata": {},
   "cell_type": "markdown",
   "source": "**raise возвращает ошибку**",
   "id": "3a56581f3f2b8912"
  },
  {
   "metadata": {
    "ExecuteTime": {
     "end_time": "2024-10-21T09:24:55.176589Z",
     "start_time": "2024-10-21T09:24:55.165498Z"
    }
   },
   "cell_type": "code",
   "source": [
    "student1 = Student('Иван', 20, 2)\n",
    "student1.Introduce()"
   ],
   "id": "750fe87ec4e4fd6b",
   "outputs": [
    {
     "name": "stdout",
     "output_type": "stream",
     "text": [
      "Мое имя - Иван, возраст - 20\n"
     ]
    }
   ],
   "execution_count": 119
  },
  {
   "metadata": {},
   "cell_type": "markdown",
   "source": "# Инкапсуляция",
   "id": "84c0dabe491a1b16"
  },
  {
   "metadata": {
    "ExecuteTime": {
     "end_time": "2024-10-21T09:24:55.344279Z",
     "start_time": "2024-10-21T09:24:55.298034Z"
    }
   },
   "cell_type": "code",
   "source": [
    "p1 = Person('Vladimir', 20)\n",
    "p1.age = 25"
   ],
   "id": "1644318c84a4a5b5",
   "outputs": [
    {
     "ename": "ValueError",
     "evalue": "Вы ввели некорректный возраст",
     "output_type": "error",
     "traceback": [
      "\u001B[0;31m---------------------------------------------------------------------------\u001B[0m",
      "\u001B[0;31mValueError\u001B[0m                                Traceback (most recent call last)",
      "Cell \u001B[0;32mIn[120], line 2\u001B[0m\n\u001B[1;32m      1\u001B[0m p1 \u001B[38;5;241m=\u001B[39m Person(\u001B[38;5;124m'\u001B[39m\u001B[38;5;124mVladimir\u001B[39m\u001B[38;5;124m'\u001B[39m, \u001B[38;5;241m20\u001B[39m)\n\u001B[0;32m----> 2\u001B[0m \u001B[43mp1\u001B[49m\u001B[38;5;241;43m.\u001B[39;49m\u001B[43mage\u001B[49m \u001B[38;5;241m=\u001B[39m \u001B[38;5;241m25\u001B[39m\n",
      "Cell \u001B[0;32mIn[117], line 18\u001B[0m, in \u001B[0;36mPerson.age\u001B[0;34m(self, age)\u001B[0m\n\u001B[1;32m     16\u001B[0m     \u001B[38;5;28mself\u001B[39m\u001B[38;5;241m.\u001B[39m__age \u001B[38;5;241m=\u001B[39m age\n\u001B[1;32m     17\u001B[0m \u001B[38;5;28;01melse\u001B[39;00m:\n\u001B[0;32m---> 18\u001B[0m     \u001B[38;5;28;01mraise\u001B[39;00m \u001B[38;5;167;01mValueError\u001B[39;00m(\u001B[38;5;124m'\u001B[39m\u001B[38;5;124mВы ввели некорректный возраст\u001B[39m\u001B[38;5;124m'\u001B[39m)\n",
      "\u001B[0;31mValueError\u001B[0m: Вы ввели некорректный возраст"
     ]
    }
   ],
   "execution_count": 120
  },
  {
   "metadata": {
    "ExecuteTime": {
     "end_time": "2024-10-21T09:25:10.439558Z",
     "start_time": "2024-10-21T09:25:10.429182Z"
    }
   },
   "cell_type": "code",
   "source": "p1.Introduce()",
   "id": "db438503e88d1ce3",
   "outputs": [
    {
     "name": "stdout",
     "output_type": "stream",
     "text": [
      "Мое имя - Vladimir, возраст - 20\n"
     ]
    }
   ],
   "execution_count": 121
  }
 ],
 "metadata": {
  "kernelspec": {
   "display_name": "Python 3",
   "language": "python",
   "name": "python3"
  },
  "language_info": {
   "codemirror_mode": {
    "name": "ipython",
    "version": 2
   },
   "file_extension": ".py",
   "mimetype": "text/x-python",
   "name": "python",
   "nbconvert_exporter": "python",
   "pygments_lexer": "ipython2",
   "version": "2.7.6"
  }
 },
 "nbformat": 4,
 "nbformat_minor": 5
}
