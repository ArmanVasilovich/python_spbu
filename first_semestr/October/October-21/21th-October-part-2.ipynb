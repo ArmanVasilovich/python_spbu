{
 "cells": [
  {
   "metadata": {},
   "cell_type": "markdown",
   "source": "# Exceptions",
   "id": "24efbfc5cec4e269"
  },
  {
   "metadata": {
    "ExecuteTime": {
     "end_time": "2024-10-21T10:49:33.160216Z",
     "start_time": "2024-10-21T10:49:33.141054Z"
    }
   },
   "cell_type": "code",
   "source": "a, b = 1, 0",
   "id": "30436cec777aff62",
   "outputs": [],
   "execution_count": 3
  },
  {
   "metadata": {
    "ExecuteTime": {
     "end_time": "2024-10-21T10:50:08.075875Z",
     "start_time": "2024-10-21T10:50:08.056309Z"
    }
   },
   "cell_type": "code",
   "source": [
    "try:\n",
    "    result = a / b\n",
    "    print(result)\n",
    "except ZeroDivisionError:\n",
    "    print('Делить на ноль нельзя!')\n",
    "except TypeError:\n",
    "    print('123')\n",
    "else:\n",
    "    print('Этот блок выполняется, если ошибок не было')\n",
    "finally:\n",
    "    print('Были ошибки или неть - мне без разницы!')"
   ],
   "id": "5c6b1ca4a1ca6f85",
   "outputs": [
    {
     "name": "stdout",
     "output_type": "stream",
     "text": [
      "Делить на ноль нельзя!\n",
      "Были ошибки или неть - мне без разницы!\n"
     ]
    }
   ],
   "execution_count": 5
  }
 ],
 "metadata": {
  "kernelspec": {
   "display_name": "Python 3",
   "language": "python",
   "name": "python3"
  },
  "language_info": {
   "codemirror_mode": {
    "name": "ipython",
    "version": 2
   },
   "file_extension": ".py",
   "mimetype": "text/x-python",
   "name": "python",
   "nbconvert_exporter": "python",
   "pygments_lexer": "ipython2",
   "version": "2.7.6"
  }
 },
 "nbformat": 4,
 "nbformat_minor": 5
}
