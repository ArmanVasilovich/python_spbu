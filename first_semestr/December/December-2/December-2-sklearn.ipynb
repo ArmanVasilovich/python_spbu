{
 "cells": [
  {
   "cell_type": "code",
   "id": "initial_id",
   "metadata": {
    "collapsed": true,
    "ExecuteTime": {
     "end_time": "2024-12-02T11:50:58.581810Z",
     "start_time": "2024-12-02T11:50:58.576228Z"
    }
   },
   "source": [
    "import pandas as pd\n",
    "import numpy as np\n",
    "from sklearn.impute import SimpleImputer"
   ],
   "outputs": [],
   "execution_count": 15
  },
  {
   "metadata": {
    "ExecuteTime": {
     "end_time": "2024-12-02T11:50:58.632631Z",
     "start_time": "2024-12-02T11:50:58.610120Z"
    }
   },
   "cell_type": "code",
   "source": [
    "arr = [\n",
    "    [1, 0, 0],\n",
    "    [np.nan, 3, 1],\n",
    "    [1, 3, 1],\n",
    "    [700, 6, 0]\n",
    "]"
   ],
   "id": "bd976b532fb0e41",
   "outputs": [],
   "execution_count": 16
  },
  {
   "metadata": {
    "ExecuteTime": {
     "end_time": "2024-12-02T11:50:58.718940Z",
     "start_time": "2024-12-02T11:50:58.700792Z"
    }
   },
   "cell_type": "code",
   "source": "arr",
   "id": "907dfe22ae416b81",
   "outputs": [
    {
     "data": {
      "text/plain": [
       "[[1, 0, 0], [nan, 3, 1], [1, 3, 1], [700, 6, 0]]"
      ]
     },
     "execution_count": 17,
     "metadata": {},
     "output_type": "execute_result"
    }
   ],
   "execution_count": 17
  },
  {
   "metadata": {
    "ExecuteTime": {
     "end_time": "2024-12-02T11:56:13.991203Z",
     "start_time": "2024-12-02T11:56:13.981946Z"
    }
   },
   "cell_type": "code",
   "source": "imp = SimpleImputer(missing_values=np.nan, strategy='median')",
   "id": "74c1f65f4d4f5d3e",
   "outputs": [],
   "execution_count": 39
  },
  {
   "metadata": {
    "ExecuteTime": {
     "end_time": "2024-12-02T11:56:14.385334Z",
     "start_time": "2024-12-02T11:56:14.368978Z"
    }
   },
   "cell_type": "code",
   "source": "arr_new = imp.fit_transform(arr)",
   "id": "7e865e1da1b3fd5b",
   "outputs": [],
   "execution_count": 40
  },
  {
   "metadata": {
    "ExecuteTime": {
     "end_time": "2024-12-02T11:59:51.128460Z",
     "start_time": "2024-12-02T11:59:51.116079Z"
    }
   },
   "cell_type": "code",
   "source": "arr_new",
   "id": "3b00ff93121752f1",
   "outputs": [
    {
     "data": {
      "text/plain": [
       "array([[  1.,   0.,   0.],\n",
       "       [  1.,   3.,   1.],\n",
       "       [  1.,   3.,   1.],\n",
       "       [700.,   6.,   0.]])"
      ]
     },
     "execution_count": 42,
     "metadata": {},
     "output_type": "execute_result"
    }
   ],
   "execution_count": 42
  },
  {
   "metadata": {
    "ExecuteTime": {
     "end_time": "2024-12-02T12:03:03.749176Z",
     "start_time": "2024-12-02T12:03:03.509251Z"
    }
   },
   "cell_type": "code",
   "source": [
    "df = pd.DataFrame(\n",
    "    [['1', '0', '0'],\n",
    "    ['-1', '3', '1'],\n",
    "    ['-1', '1', '3'],\n",
    "    ['-1', '6', '0']], dtype='category'\n",
    ")"
   ],
   "id": "802c0e47a56b996f",
   "outputs": [],
   "execution_count": 44
  },
  {
   "metadata": {
    "ExecuteTime": {
     "end_time": "2024-12-02T12:03:07.024178Z",
     "start_time": "2024-12-02T12:03:07.003057Z"
    }
   },
   "cell_type": "code",
   "source": "df",
   "id": "e211c9cc66c46630",
   "outputs": [
    {
     "data": {
      "text/plain": [
       "    0  1  2\n",
       "0   1  0  0\n",
       "1  -1  3  1\n",
       "2  -1  1  3\n",
       "3  -1  6  0"
      ],
      "text/html": [
       "<div>\n",
       "<style scoped>\n",
       "    .dataframe tbody tr th:only-of-type {\n",
       "        vertical-align: middle;\n",
       "    }\n",
       "\n",
       "    .dataframe tbody tr th {\n",
       "        vertical-align: top;\n",
       "    }\n",
       "\n",
       "    .dataframe thead th {\n",
       "        text-align: right;\n",
       "    }\n",
       "</style>\n",
       "<table border=\"1\" class=\"dataframe\">\n",
       "  <thead>\n",
       "    <tr style=\"text-align: right;\">\n",
       "      <th></th>\n",
       "      <th>0</th>\n",
       "      <th>1</th>\n",
       "      <th>2</th>\n",
       "    </tr>\n",
       "  </thead>\n",
       "  <tbody>\n",
       "    <tr>\n",
       "      <th>0</th>\n",
       "      <td>1</td>\n",
       "      <td>0</td>\n",
       "      <td>0</td>\n",
       "    </tr>\n",
       "    <tr>\n",
       "      <th>1</th>\n",
       "      <td>-1</td>\n",
       "      <td>3</td>\n",
       "      <td>1</td>\n",
       "    </tr>\n",
       "    <tr>\n",
       "      <th>2</th>\n",
       "      <td>-1</td>\n",
       "      <td>1</td>\n",
       "      <td>3</td>\n",
       "    </tr>\n",
       "    <tr>\n",
       "      <th>3</th>\n",
       "      <td>-1</td>\n",
       "      <td>6</td>\n",
       "      <td>0</td>\n",
       "    </tr>\n",
       "  </tbody>\n",
       "</table>\n",
       "</div>"
      ]
     },
     "execution_count": 45,
     "metadata": {},
     "output_type": "execute_result"
    }
   ],
   "execution_count": 45
  },
  {
   "metadata": {
    "ExecuteTime": {
     "end_time": "2024-12-02T12:04:34.293055Z",
     "start_time": "2024-12-02T12:04:34.266241Z"
    }
   },
   "cell_type": "code",
   "source": [
    "imp = SimpleImputer(missing_values='-1', strategy='most_frequent')\n",
    "imp.fit_transform(df)"
   ],
   "id": "f63f3edba27fe6c8",
   "outputs": [
    {
     "data": {
      "text/plain": [
       "array([['1', '0', '0'],\n",
       "       ['1', '3', '1'],\n",
       "       ['1', '1', '3'],\n",
       "       ['1', '6', '0']], dtype=object)"
      ]
     },
     "execution_count": 49,
     "metadata": {},
     "output_type": "execute_result"
    }
   ],
   "execution_count": 49
  },
  {
   "metadata": {},
   "cell_type": "code",
   "outputs": [],
   "execution_count": null,
   "source": "",
   "id": "e2d1af4276c16fb1"
  }
 ],
 "metadata": {
  "kernelspec": {
   "display_name": "Python 3",
   "language": "python",
   "name": "python3"
  },
  "language_info": {
   "codemirror_mode": {
    "name": "ipython",
    "version": 2
   },
   "file_extension": ".py",
   "mimetype": "text/x-python",
   "name": "python",
   "nbconvert_exporter": "python",
   "pygments_lexer": "ipython2",
   "version": "2.7.6"
  }
 },
 "nbformat": 4,
 "nbformat_minor": 5
}
