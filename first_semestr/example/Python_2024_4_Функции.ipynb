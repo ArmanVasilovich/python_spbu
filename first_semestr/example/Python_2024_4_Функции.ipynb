{
  "nbformat": 4,
  "nbformat_minor": 0,
  "metadata": {
    "colab": {
      "provenance": []
    },
    "kernelspec": {
      "name": "python3",
      "display_name": "Python 3"
    },
    "language_info": {
      "name": "python"
    }
  },
  "cells": [
    {
      "cell_type": "code",
      "execution_count": null,
      "metadata": {
        "id": "zzOXGwAVH20r"
      },
      "outputs": [],
      "source": [
        "def имя_функции (параметры):\n",
        "  тело функции\n",
        "  return Значение"
      ]
    },
    {
      "cell_type": "code",
      "source": [
        "def hello ():\n",
        "  return print('Hello')\n"
      ],
      "metadata": {
        "id": "5j8rBu_sIBqr"
      },
      "execution_count": 4,
      "outputs": []
    },
    {
      "cell_type": "code",
      "source": [
        "hello()"
      ],
      "metadata": {
        "colab": {
          "base_uri": "https://localhost:8080/"
        },
        "id": "6k_cD43sIBur",
        "outputId": "1c15138e-703a-4f9f-b718-c7f373233230"
      },
      "execution_count": 5,
      "outputs": [
        {
          "output_type": "stream",
          "name": "stdout",
          "text": [
            "Hello\n"
          ]
        }
      ]
    },
    {
      "cell_type": "code",
      "source": [
        "def hello ():\n",
        "  hello = input('Введите приветствие: ')\n",
        "  return print(hello)"
      ],
      "metadata": {
        "id": "uxtDttNoIB0C"
      },
      "execution_count": 7,
      "outputs": []
    },
    {
      "cell_type": "code",
      "source": [
        "hello()"
      ],
      "metadata": {
        "colab": {
          "base_uri": "https://localhost:8080/"
        },
        "id": "G_5_hXv2KFtg",
        "outputId": "f3ea4652-491a-4fae-aa65-8765ccbd6bc8"
      },
      "execution_count": 8,
      "outputs": [
        {
          "output_type": "stream",
          "name": "stdout",
          "text": [
            "Введите приветствие: Привет!\n",
            "Привет!\n"
          ]
        }
      ]
    },
    {
      "cell_type": "code",
      "source": [
        "def pifagor (x,y):\n",
        "  result = (x**2 + y**2)**0.5\n",
        "  return result"
      ],
      "metadata": {
        "id": "cwuK5qeQKWcW"
      },
      "execution_count": 11,
      "outputs": []
    },
    {
      "cell_type": "code",
      "source": [
        "pifagor (3,4)"
      ],
      "metadata": {
        "colab": {
          "base_uri": "https://localhost:8080/"
        },
        "id": "Z3wl_qG5K5KE",
        "outputId": "b457d1a3-f68e-40c7-ed77-118a6d2ba223"
      },
      "execution_count": 12,
      "outputs": [
        {
          "output_type": "execute_result",
          "data": {
            "text/plain": [
              "5.0"
            ]
          },
          "metadata": {},
          "execution_count": 12
        }
      ]
    },
    {
      "cell_type": "code",
      "source": [
        "pifagor()"
      ],
      "metadata": {
        "colab": {
          "base_uri": "https://localhost:8080/",
          "height": 141
        },
        "id": "dPa7cgKCLRPz",
        "outputId": "e0656855-764f-4b98-d883-767ad5d2df76"
      },
      "execution_count": 13,
      "outputs": [
        {
          "output_type": "error",
          "ename": "TypeError",
          "evalue": "pifagor() missing 2 required positional arguments: 'x' and 'y'",
          "traceback": [
            "\u001b[0;31m---------------------------------------------------------------------------\u001b[0m",
            "\u001b[0;31mTypeError\u001b[0m                                 Traceback (most recent call last)",
            "\u001b[0;32m<ipython-input-13-91661e0fb983>\u001b[0m in \u001b[0;36m<cell line: 1>\u001b[0;34m()\u001b[0m\n\u001b[0;32m----> 1\u001b[0;31m \u001b[0mpifagor\u001b[0m\u001b[0;34m(\u001b[0m\u001b[0;34m)\u001b[0m\u001b[0;34m\u001b[0m\u001b[0;34m\u001b[0m\u001b[0m\n\u001b[0m",
            "\u001b[0;31mTypeError\u001b[0m: pifagor() missing 2 required positional arguments: 'x' and 'y'"
          ]
        }
      ]
    },
    {
      "cell_type": "code",
      "source": [
        "pifagor(3,4,5)"
      ],
      "metadata": {
        "colab": {
          "base_uri": "https://localhost:8080/",
          "height": 141
        },
        "id": "RTw_e02hLeR7",
        "outputId": "d2d95048-1560-48f4-ea0d-846f120b4c91"
      },
      "execution_count": 15,
      "outputs": [
        {
          "output_type": "error",
          "ename": "TypeError",
          "evalue": "pifagor() takes 2 positional arguments but 3 were given",
          "traceback": [
            "\u001b[0;31m---------------------------------------------------------------------------\u001b[0m",
            "\u001b[0;31mTypeError\u001b[0m                                 Traceback (most recent call last)",
            "\u001b[0;32m<ipython-input-15-73c4168eccfe>\u001b[0m in \u001b[0;36m<cell line: 1>\u001b[0;34m()\u001b[0m\n\u001b[0;32m----> 1\u001b[0;31m \u001b[0mpifagor\u001b[0m\u001b[0;34m(\u001b[0m\u001b[0;36m3\u001b[0m\u001b[0;34m,\u001b[0m\u001b[0;36m4\u001b[0m\u001b[0;34m,\u001b[0m\u001b[0;36m5\u001b[0m\u001b[0;34m)\u001b[0m\u001b[0;34m\u001b[0m\u001b[0;34m\u001b[0m\u001b[0m\n\u001b[0m",
            "\u001b[0;31mTypeError\u001b[0m: pifagor() takes 2 positional arguments but 3 were given"
          ]
        }
      ]
    },
    {
      "cell_type": "code",
      "source": [
        "pifagor(3,'4')"
      ],
      "metadata": {
        "colab": {
          "base_uri": "https://localhost:8080/",
          "height": 228
        },
        "id": "TTEuZbiULw58",
        "outputId": "b672e023-8bbf-4c16-a427-068726a31575"
      },
      "execution_count": 16,
      "outputs": [
        {
          "output_type": "error",
          "ename": "TypeError",
          "evalue": "unsupported operand type(s) for ** or pow(): 'str' and 'int'",
          "traceback": [
            "\u001b[0;31m---------------------------------------------------------------------------\u001b[0m",
            "\u001b[0;31mTypeError\u001b[0m                                 Traceback (most recent call last)",
            "\u001b[0;32m<ipython-input-16-efffbb4f75b0>\u001b[0m in \u001b[0;36m<cell line: 1>\u001b[0;34m()\u001b[0m\n\u001b[0;32m----> 1\u001b[0;31m \u001b[0mpifagor\u001b[0m\u001b[0;34m(\u001b[0m\u001b[0;36m3\u001b[0m\u001b[0;34m,\u001b[0m\u001b[0;34m'4'\u001b[0m\u001b[0;34m)\u001b[0m\u001b[0;34m\u001b[0m\u001b[0;34m\u001b[0m\u001b[0m\n\u001b[0m",
            "\u001b[0;32m<ipython-input-11-22812e858952>\u001b[0m in \u001b[0;36mpifagor\u001b[0;34m(x, y)\u001b[0m\n\u001b[1;32m      1\u001b[0m \u001b[0;32mdef\u001b[0m \u001b[0mpifagor\u001b[0m \u001b[0;34m(\u001b[0m\u001b[0mx\u001b[0m\u001b[0;34m,\u001b[0m\u001b[0my\u001b[0m\u001b[0;34m)\u001b[0m\u001b[0;34m:\u001b[0m\u001b[0;34m\u001b[0m\u001b[0;34m\u001b[0m\u001b[0m\n\u001b[0;32m----> 2\u001b[0;31m   \u001b[0mresult\u001b[0m \u001b[0;34m=\u001b[0m \u001b[0;34m(\u001b[0m\u001b[0mx\u001b[0m\u001b[0;34m**\u001b[0m\u001b[0;36m2\u001b[0m \u001b[0;34m+\u001b[0m \u001b[0my\u001b[0m\u001b[0;34m**\u001b[0m\u001b[0;36m2\u001b[0m\u001b[0;34m)\u001b[0m\u001b[0;34m**\u001b[0m\u001b[0;36m0.5\u001b[0m\u001b[0;34m\u001b[0m\u001b[0;34m\u001b[0m\u001b[0m\n\u001b[0m\u001b[1;32m      3\u001b[0m   \u001b[0;32mreturn\u001b[0m \u001b[0mresult\u001b[0m\u001b[0;34m\u001b[0m\u001b[0;34m\u001b[0m\u001b[0m\n",
            "\u001b[0;31mTypeError\u001b[0m: unsupported operand type(s) for ** or pow(): 'str' and 'int'"
          ]
        }
      ]
    },
    {
      "cell_type": "code",
      "source": [
        "def introduce (name,surname,age):\n",
        "  print (f'Привет! Мое имя: {name}, моя фамилия: {surname}. Мне {age} лет')\n"
      ],
      "metadata": {
        "id": "KZtaBf2sMHvf"
      },
      "execution_count": 17,
      "outputs": []
    },
    {
      "cell_type": "code",
      "source": [
        "introduce('Павел', 'Иванов', 29)"
      ],
      "metadata": {
        "colab": {
          "base_uri": "https://localhost:8080/"
        },
        "id": "fkn0XD6_M_-X",
        "outputId": "ea53941f-8961-4b6d-86a6-a7b64d89121c"
      },
      "execution_count": 18,
      "outputs": [
        {
          "output_type": "stream",
          "name": "stdout",
          "text": [
            "Привет! Мое имя: Павел, моя фамилия: Иванов. Мне 29 лет\n"
          ]
        }
      ]
    },
    {
      "cell_type": "code",
      "source": [
        "introduce('Иванов', 'Павел', 29)"
      ],
      "metadata": {
        "colab": {
          "base_uri": "https://localhost:8080/"
        },
        "id": "HKM-Kb1INM-W",
        "outputId": "9b76d37c-39c6-4e7e-a812-6d46a0122eff"
      },
      "execution_count": 19,
      "outputs": [
        {
          "output_type": "stream",
          "name": "stdout",
          "text": [
            "Привет! Мое имя: Иванов, моя фамилия: Павел. Мне 29 лет\n"
          ]
        }
      ]
    },
    {
      "cell_type": "markdown",
      "source": [
        "**Задача 1**"
      ],
      "metadata": {
        "id": "TcxUIPJcN4VL"
      }
    },
    {
      "cell_type": "code",
      "source": [
        "def sequence (number):\n",
        "  my_list = []\n",
        "  for i in range (1, number + 1):\n",
        "    my_list.append(i)\n",
        "  return my_list"
      ],
      "metadata": {
        "id": "yeQAhcEfN0P0"
      },
      "execution_count": 20,
      "outputs": []
    },
    {
      "cell_type": "code",
      "source": [
        "sequence(10)"
      ],
      "metadata": {
        "colab": {
          "base_uri": "https://localhost:8080/"
        },
        "id": "h4rnEkVyN76K",
        "outputId": "1dd1f911-b41b-49ce-8020-3037ed78fc4a"
      },
      "execution_count": 21,
      "outputs": [
        {
          "output_type": "execute_result",
          "data": {
            "text/plain": [
              "[1, 2, 3, 4, 5, 6, 7, 8, 9, 10]"
            ]
          },
          "metadata": {},
          "execution_count": 21
        }
      ]
    },
    {
      "cell_type": "code",
      "source": [
        "def sequence (start,stop):\n",
        "  my_list = []\n",
        "  for i in range (start, stop + 1):\n",
        "    my_list.append(i)\n",
        "  return my_list"
      ],
      "metadata": {
        "id": "fELsSLs9OuET"
      },
      "execution_count": 22,
      "outputs": []
    },
    {
      "cell_type": "code",
      "source": [
        "sequence (1,10)"
      ],
      "metadata": {
        "colab": {
          "base_uri": "https://localhost:8080/"
        },
        "id": "G5RXZ4AuN79K",
        "outputId": "439564ca-8e0d-40cf-de4d-0c6b8518dfab"
      },
      "execution_count": 23,
      "outputs": [
        {
          "output_type": "execute_result",
          "data": {
            "text/plain": [
              "[1, 2, 3, 4, 5, 6, 7, 8, 9, 10]"
            ]
          },
          "metadata": {},
          "execution_count": 23
        }
      ]
    },
    {
      "cell_type": "code",
      "source": [
        "def sequence (start,stop, step):\n",
        "  my_list = []\n",
        "  for i in range (start, stop + 1, step):\n",
        "    my_list.append(i)\n",
        "  return my_list"
      ],
      "metadata": {
        "id": "RGlLkJsJN8BK"
      },
      "execution_count": 24,
      "outputs": []
    },
    {
      "cell_type": "code",
      "source": [
        "sequence (1,10,2)"
      ],
      "metadata": {
        "colab": {
          "base_uri": "https://localhost:8080/"
        },
        "id": "cUEk9BnyPEN6",
        "outputId": "b75ffb32-ecf0-493e-d0fd-bb2c19451be0"
      },
      "execution_count": 25,
      "outputs": [
        {
          "output_type": "execute_result",
          "data": {
            "text/plain": [
              "[1, 3, 5, 7, 9]"
            ]
          },
          "metadata": {},
          "execution_count": 25
        }
      ]
    },
    {
      "cell_type": "code",
      "source": [
        "def sequence (stop, start=1, step=1):\n",
        "  my_list = []\n",
        "  for i in range (start, stop + 1, step):\n",
        "    my_list.append(i)\n",
        "  return my_list"
      ],
      "metadata": {
        "id": "NdRqCAl0PtNo"
      },
      "execution_count": 30,
      "outputs": []
    },
    {
      "cell_type": "code",
      "source": [
        "sequence (10)"
      ],
      "metadata": {
        "colab": {
          "base_uri": "https://localhost:8080/"
        },
        "id": "1VcKosRlP0jw",
        "outputId": "6a734734-40f0-48e9-d231-f191ae9aaba1"
      },
      "execution_count": 31,
      "outputs": [
        {
          "output_type": "execute_result",
          "data": {
            "text/plain": [
              "[1, 2, 3, 4, 5, 6, 7, 8, 9, 10]"
            ]
          },
          "metadata": {},
          "execution_count": 31
        }
      ]
    },
    {
      "cell_type": "code",
      "source": [
        "sequence (1,10,2)"
      ],
      "metadata": {
        "colab": {
          "base_uri": "https://localhost:8080/"
        },
        "id": "pQgLUF-_P7M1",
        "outputId": "a14d8669-7d94-483e-e5b6-3406fd72712a"
      },
      "execution_count": 28,
      "outputs": [
        {
          "output_type": "execute_result",
          "data": {
            "text/plain": [
              "[1, 3, 5, 7, 9]"
            ]
          },
          "metadata": {},
          "execution_count": 28
        }
      ]
    },
    {
      "cell_type": "markdown",
      "source": [
        "**Задача 2.** Факториал"
      ],
      "metadata": {
        "id": "ceNVeJflQiSn"
      }
    },
    {
      "cell_type": "code",
      "source": [
        "def faktorial (n):\n",
        "  count = 1\n",
        "  for i in range (1, n+1):\n",
        "    count *= i\n",
        "  return count"
      ],
      "metadata": {
        "id": "UUeuoar9QoGw"
      },
      "execution_count": 32,
      "outputs": []
    },
    {
      "cell_type": "code",
      "source": [
        "faktorial(5)"
      ],
      "metadata": {
        "colab": {
          "base_uri": "https://localhost:8080/"
        },
        "id": "k21M-YnmQoPo",
        "outputId": "8b1ec37e-cc17-47cc-96ec-f5a8af0001ac"
      },
      "execution_count": 33,
      "outputs": [
        {
          "output_type": "execute_result",
          "data": {
            "text/plain": [
              "120"
            ]
          },
          "metadata": {},
          "execution_count": 33
        }
      ]
    },
    {
      "cell_type": "markdown",
      "source": [
        "**Задача 3.** Написать функцию, которая расчитывает цену с учетом налога"
      ],
      "metadata": {
        "id": "iIuYyX34Rpb4"
      }
    },
    {
      "cell_type": "code",
      "source": [
        "def total_price(price,tax):\n",
        "  result = price + (price*tax/100)\n",
        "  return result"
      ],
      "metadata": {
        "id": "r04O4jukQgMF"
      },
      "execution_count": 34,
      "outputs": []
    },
    {
      "cell_type": "code",
      "source": [
        "total_price(15000,20)"
      ],
      "metadata": {
        "colab": {
          "base_uri": "https://localhost:8080/"
        },
        "id": "DMVEFWnnSVFD",
        "outputId": "f4d2b072-6df4-4ce4-b02f-35ced2a1f597"
      },
      "execution_count": 35,
      "outputs": [
        {
          "output_type": "execute_result",
          "data": {
            "text/plain": [
              "18000.0"
            ]
          },
          "metadata": {},
          "execution_count": 35
        }
      ]
    },
    {
      "cell_type": "code",
      "source": [
        "total_price(20, 15000)"
      ],
      "metadata": {
        "colab": {
          "base_uri": "https://localhost:8080/"
        },
        "id": "pWyHvaN3Sc8x",
        "outputId": "215e6e86-e0a8-45af-fcc6-f161809b068a"
      },
      "execution_count": 36,
      "outputs": [
        {
          "output_type": "execute_result",
          "data": {
            "text/plain": [
              "3020.0"
            ]
          },
          "metadata": {},
          "execution_count": 36
        }
      ]
    },
    {
      "cell_type": "code",
      "source": [
        "def get_temperature(temperature):\n",
        "  try:\n",
        "    temperature = int(temperature)\n",
        "    return temperature\n",
        "  except:\n",
        "    print ('ОШИБКА! Требуется ввести число')\n",
        "    return None"
      ],
      "metadata": {
        "id": "PIwu2MrASxYg"
      },
      "execution_count": 37,
      "outputs": []
    },
    {
      "cell_type": "code",
      "source": [
        "get_temperature(20)"
      ],
      "metadata": {
        "colab": {
          "base_uri": "https://localhost:8080/"
        },
        "id": "KExi7dWhSxvp",
        "outputId": "7c9e26a0-90c9-4342-ef24-bbd7d9f003f5"
      },
      "execution_count": 38,
      "outputs": [
        {
          "output_type": "execute_result",
          "data": {
            "text/plain": [
              "20"
            ]
          },
          "metadata": {},
          "execution_count": 38
        }
      ]
    },
    {
      "cell_type": "code",
      "source": [
        "get_temperature('20')"
      ],
      "metadata": {
        "colab": {
          "base_uri": "https://localhost:8080/"
        },
        "id": "Cjrn1usHSx35",
        "outputId": "d9bc9fce-f4a3-430c-8a13-955bf1b3c81b"
      },
      "execution_count": 39,
      "outputs": [
        {
          "output_type": "execute_result",
          "data": {
            "text/plain": [
              "20"
            ]
          },
          "metadata": {},
          "execution_count": 39
        }
      ]
    },
    {
      "cell_type": "code",
      "source": [
        "get_temperature('few')"
      ],
      "metadata": {
        "colab": {
          "base_uri": "https://localhost:8080/"
        },
        "id": "R1_ZX2LPTzzk",
        "outputId": "4ab896dd-943a-4b13-b2e7-ba65b20b823c"
      },
      "execution_count": 40,
      "outputs": [
        {
          "output_type": "stream",
          "name": "stdout",
          "text": [
            "ОШИБКА! Требуется ввести число\n"
          ]
        }
      ]
    },
    {
      "cell_type": "markdown",
      "source": [
        "Глобальные и локальные переменые"
      ],
      "metadata": {
        "id": "8zjEDSDhUADw"
      }
    },
    {
      "cell_type": "code",
      "source": [
        "count = 0\n",
        "def increment():\n",
        "  count +=1\n"
      ],
      "metadata": {
        "id": "DnlVPJkkUGLu"
      },
      "execution_count": 41,
      "outputs": []
    },
    {
      "cell_type": "code",
      "source": [
        "increment()"
      ],
      "metadata": {
        "colab": {
          "base_uri": "https://localhost:8080/",
          "height": 228
        },
        "id": "BUvmN_1lUGEX",
        "outputId": "43993623-a008-4264-b2e3-fb2352e8b685"
      },
      "execution_count": 42,
      "outputs": [
        {
          "output_type": "error",
          "ename": "UnboundLocalError",
          "evalue": "local variable 'count' referenced before assignment",
          "traceback": [
            "\u001b[0;31m---------------------------------------------------------------------------\u001b[0m",
            "\u001b[0;31mUnboundLocalError\u001b[0m                         Traceback (most recent call last)",
            "\u001b[0;32m<ipython-input-42-d139c6ce71dc>\u001b[0m in \u001b[0;36m<cell line: 1>\u001b[0;34m()\u001b[0m\n\u001b[0;32m----> 1\u001b[0;31m \u001b[0mincrement\u001b[0m\u001b[0;34m(\u001b[0m\u001b[0;34m)\u001b[0m\u001b[0;34m\u001b[0m\u001b[0;34m\u001b[0m\u001b[0m\n\u001b[0m",
            "\u001b[0;32m<ipython-input-41-7f0afec8b86c>\u001b[0m in \u001b[0;36mincrement\u001b[0;34m()\u001b[0m\n\u001b[1;32m      1\u001b[0m \u001b[0mcount\u001b[0m \u001b[0;34m=\u001b[0m \u001b[0;36m0\u001b[0m\u001b[0;34m\u001b[0m\u001b[0;34m\u001b[0m\u001b[0m\n\u001b[1;32m      2\u001b[0m \u001b[0;32mdef\u001b[0m \u001b[0mincrement\u001b[0m\u001b[0;34m(\u001b[0m\u001b[0;34m)\u001b[0m\u001b[0;34m:\u001b[0m\u001b[0;34m\u001b[0m\u001b[0;34m\u001b[0m\u001b[0m\n\u001b[0;32m----> 3\u001b[0;31m   \u001b[0mcount\u001b[0m \u001b[0;34m+=\u001b[0m\u001b[0;36m1\u001b[0m\u001b[0;34m\u001b[0m\u001b[0;34m\u001b[0m\u001b[0m\n\u001b[0m",
            "\u001b[0;31mUnboundLocalError\u001b[0m: local variable 'count' referenced before assignment"
          ]
        }
      ]
    },
    {
      "cell_type": "code",
      "source": [
        "def increment():\n",
        "  count = 0\n",
        "  count +=1\n",
        "  return count"
      ],
      "metadata": {
        "id": "upxuxolXUwE6"
      },
      "execution_count": 45,
      "outputs": []
    },
    {
      "cell_type": "code",
      "source": [
        "increment()"
      ],
      "metadata": {
        "colab": {
          "base_uri": "https://localhost:8080/"
        },
        "id": "d3zkJTvjUF7n",
        "outputId": "e2372615-f9d9-4958-f076-a6fc55e81603"
      },
      "execution_count": 46,
      "outputs": [
        {
          "output_type": "execute_result",
          "data": {
            "text/plain": [
              "1"
            ]
          },
          "metadata": {},
          "execution_count": 46
        }
      ]
    },
    {
      "cell_type": "code",
      "source": [
        "count_global = 15\n",
        "def increment():\n",
        "  global count_global\n",
        "  count_global += 1\n",
        "  return count_global\n"
      ],
      "metadata": {
        "id": "1U6Kub9bUFb_"
      },
      "execution_count": 49,
      "outputs": []
    },
    {
      "cell_type": "code",
      "source": [
        "increment()"
      ],
      "metadata": {
        "colab": {
          "base_uri": "https://localhost:8080/"
        },
        "id": "GhY1lDieVhL2",
        "outputId": "673e7f72-ad6f-41c2-e5ed-d3bca0da3394"
      },
      "execution_count": 50,
      "outputs": [
        {
          "output_type": "execute_result",
          "data": {
            "text/plain": [
              "16"
            ]
          },
          "metadata": {},
          "execution_count": 50
        }
      ]
    },
    {
      "cell_type": "markdown",
      "source": [
        "**Рекурсия**"
      ],
      "metadata": {
        "id": "SWVbGv4sWUjE"
      }
    },
    {
      "cell_type": "markdown",
      "source": [
        "**Задача 4.** Факториал числа"
      ],
      "metadata": {
        "id": "L3GA7W55WbBK"
      }
    },
    {
      "cell_type": "code",
      "source": [
        "#n! = n*(n-1)"
      ],
      "metadata": {
        "id": "K45PYOtJWaLz"
      },
      "execution_count": null,
      "outputs": []
    },
    {
      "cell_type": "code",
      "source": [
        "#5! = 1*2*3*4*5\n",
        "#5! = 5*(4*3*2*1) = 5*4!"
      ],
      "metadata": {
        "id": "lt29HEHJWaZr"
      },
      "execution_count": null,
      "outputs": []
    },
    {
      "cell_type": "code",
      "source": [
        "def factorial(n):\n",
        "  if n == 1:\n",
        "    return 1\n",
        "  result = factorial (n-1)\n",
        "  return n*result"
      ],
      "metadata": {
        "id": "P_FNPImgWaik"
      },
      "execution_count": 1,
      "outputs": []
    },
    {
      "cell_type": "code",
      "source": [
        "factorial(5)"
      ],
      "metadata": {
        "colab": {
          "base_uri": "https://localhost:8080/"
        },
        "id": "xvHrap5NXtwh",
        "outputId": "4fa5a918-6e00-4ca8-dac4-7d31ac3d50f0"
      },
      "execution_count": 2,
      "outputs": [
        {
          "output_type": "execute_result",
          "data": {
            "text/plain": [
              "120"
            ]
          },
          "metadata": {},
          "execution_count": 2
        }
      ]
    },
    {
      "cell_type": "markdown",
      "source": [
        "**Лямбда-функции**"
      ],
      "metadata": {
        "id": "DjKUV1MbpnG5"
      }
    },
    {
      "cell_type": "code",
      "source": [
        "def summa (x,y):\n",
        "  return (x+y)"
      ],
      "metadata": {
        "id": "GI5Ley3oqN2Q"
      },
      "execution_count": 3,
      "outputs": []
    },
    {
      "cell_type": "code",
      "source": [
        "summa(2,3)"
      ],
      "metadata": {
        "colab": {
          "base_uri": "https://localhost:8080/"
        },
        "id": "nhZCn5Q7qZ_G",
        "outputId": "ffa51db9-67c8-45d0-c4ae-dd9a2aba3cdb"
      },
      "execution_count": 4,
      "outputs": [
        {
          "output_type": "execute_result",
          "data": {
            "text/plain": [
              "5"
            ]
          },
          "metadata": {},
          "execution_count": 4
        }
      ]
    },
    {
      "cell_type": "code",
      "source": [
        "(lambda x,y: x+y) (2,3)"
      ],
      "metadata": {
        "colab": {
          "base_uri": "https://localhost:8080/"
        },
        "id": "ztt2wTP0ps83",
        "outputId": "119645e8-6a66-43c8-e088-7b143dc6f438"
      },
      "execution_count": 5,
      "outputs": [
        {
          "output_type": "execute_result",
          "data": {
            "text/plain": [
              "5"
            ]
          },
          "metadata": {},
          "execution_count": 5
        }
      ]
    },
    {
      "cell_type": "code",
      "source": [
        "summa_l = (lambda x,y: x+y)"
      ],
      "metadata": {
        "id": "leAf_1KrqrNO"
      },
      "execution_count": 6,
      "outputs": []
    },
    {
      "cell_type": "code",
      "source": [
        "summa_l(2,3)"
      ],
      "metadata": {
        "colab": {
          "base_uri": "https://localhost:8080/"
        },
        "id": "XUTzI1Juq6vc",
        "outputId": "2de43a3e-0096-40d9-dd12-e92df5e4fe1e"
      },
      "execution_count": 7,
      "outputs": [
        {
          "output_type": "execute_result",
          "data": {
            "text/plain": [
              "5"
            ]
          },
          "metadata": {},
          "execution_count": 7
        }
      ]
    },
    {
      "cell_type": "markdown",
      "source": [
        "**Задача 5**"
      ],
      "metadata": {
        "id": "tWPiuf1VrF7d"
      }
    },
    {
      "cell_type": "code",
      "source": [
        "num = ['5','10','7','11','3']"
      ],
      "metadata": {
        "id": "NJnXnVsXq_Q9"
      },
      "execution_count": 9,
      "outputs": []
    },
    {
      "cell_type": "code",
      "source": [
        "num.sort(key=int)\n",
        "num"
      ],
      "metadata": {
        "colab": {
          "base_uri": "https://localhost:8080/"
        },
        "id": "8MlUTDvGrJ9N",
        "outputId": "762ee3c1-78c8-45fd-b4ae-63ff2b31c789"
      },
      "execution_count": 10,
      "outputs": [
        {
          "output_type": "execute_result",
          "data": {
            "text/plain": [
              "['3', '5', '7', '10', '11']"
            ]
          },
          "metadata": {},
          "execution_count": 10
        }
      ]
    },
    {
      "cell_type": "code",
      "source": [
        "num = list(map(int,num))\n",
        "num"
      ],
      "metadata": {
        "colab": {
          "base_uri": "https://localhost:8080/"
        },
        "id": "LYjhX3fXra_N",
        "outputId": "6570516d-723b-4871-f709-e2bb048a15fa"
      },
      "execution_count": 14,
      "outputs": [
        {
          "output_type": "execute_result",
          "data": {
            "text/plain": [
              "[3, 5, 7, 10, 11]"
            ]
          },
          "metadata": {},
          "execution_count": 14
        }
      ]
    },
    {
      "cell_type": "code",
      "source": [
        "list(map(lambda x: x**2,num))"
      ],
      "metadata": {
        "colab": {
          "base_uri": "https://localhost:8080/"
        },
        "id": "1Mhp_jxcrbEm",
        "outputId": "1a666ecf-a476-4e3c-d371-d44a58ee645d"
      },
      "execution_count": 15,
      "outputs": [
        {
          "output_type": "execute_result",
          "data": {
            "text/plain": [
              "[9, 25, 49, 100, 121]"
            ]
          },
          "metadata": {},
          "execution_count": 15
        }
      ]
    },
    {
      "cell_type": "markdown",
      "source": [
        "**Аннотация типов**"
      ],
      "metadata": {
        "id": "SfdiIIk8tpOw"
      }
    },
    {
      "cell_type": "code",
      "source": [
        "def summa (x:int,y:int) -> int:\n",
        "  return (x+y)"
      ],
      "metadata": {
        "id": "auvvxohFsT2f"
      },
      "execution_count": 17,
      "outputs": []
    },
    {
      "cell_type": "code",
      "source": [
        "summa()"
      ],
      "metadata": {
        "id": "4ephWPjGtmvS"
      },
      "execution_count": null,
      "outputs": []
    },
    {
      "cell_type": "markdown",
      "source": [
        "**Документация**"
      ],
      "metadata": {
        "id": "dD8768HRuhGr"
      }
    },
    {
      "cell_type": "code",
      "source": [
        "def summa (x:int,y:int) -> int:\n",
        "  '''\n",
        "  Функция, которая возвращает сумму двух чисел\n",
        "\n",
        "  Параметры:\n",
        "     x(int): Целое число\n",
        "     y(int): Целое число\n",
        "\n",
        "  Возвращаемое значение:\n",
        "     result (int): Сумма (целое число)\n",
        "  '''\n",
        "  result = int(x) + int(y)\n",
        "\n",
        "  return result"
      ],
      "metadata": {
        "id": "DrzcAVlutmzP"
      },
      "execution_count": 18,
      "outputs": []
    },
    {
      "cell_type": "code",
      "source": [
        "help(summa)"
      ],
      "metadata": {
        "colab": {
          "base_uri": "https://localhost:8080/"
        },
        "id": "4j1038BQsUAZ",
        "outputId": "0307ba07-64f5-4c9e-e27d-bc9a8d0c0167"
      },
      "execution_count": 19,
      "outputs": [
        {
          "output_type": "stream",
          "name": "stdout",
          "text": [
            "Help on function summa in module __main__:\n",
            "\n",
            "summa(x: int, y: int) -> int\n",
            "    Функция, которая возвращает сумму двух чисел\n",
            "    \n",
            "    Параметры:\n",
            "       x(int): Целое число\n",
            "       y(int): Целое число\n",
            "    \n",
            "    Возвращаемое значение:\n",
            "       result (int): Сумма (целое число)\n",
            "\n"
          ]
        }
      ]
    },
    {
      "cell_type": "code",
      "source": [
        "summa.__doc__"
      ],
      "metadata": {
        "colab": {
          "base_uri": "https://localhost:8080/",
          "height": 53
        },
        "id": "SWg52cnDrKC3",
        "outputId": "821ba039-a604-4c17-c4f5-83194769a5a2"
      },
      "execution_count": 20,
      "outputs": [
        {
          "output_type": "execute_result",
          "data": {
            "text/plain": [
              "'\\n  Функция, которая возвращает сумму двух чисел\\n\\n  Параметры:\\n     x(int): Целое число\\n     y(int): Целое число\\n\\n  Возвращаемое значение:\\n     result (int): Сумма (целое число)\\n  '"
            ],
            "application/vnd.google.colaboratory.intrinsic+json": {
              "type": "string"
            }
          },
          "metadata": {},
          "execution_count": 20
        }
      ]
    },
    {
      "cell_type": "code",
      "source": [],
      "metadata": {
        "id": "3YEzNWVsq_WE"
      },
      "execution_count": null,
      "outputs": []
    }
  ]
}