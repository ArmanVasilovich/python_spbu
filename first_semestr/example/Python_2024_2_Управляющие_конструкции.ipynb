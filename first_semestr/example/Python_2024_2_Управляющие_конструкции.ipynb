{
  "nbformat": 4,
  "nbformat_minor": 0,
  "metadata": {
    "colab": {
      "provenance": []
    },
    "kernelspec": {
      "name": "python3",
      "display_name": "Python 3"
    },
    "language_info": {
      "name": "python"
    }
  },
  "cells": [
    {
      "cell_type": "markdown",
      "source": [
        "**Условный оператор IF**"
      ],
      "metadata": {
        "id": "-isf_cxRAG2m"
      }
    },
    {
      "cell_type": "code",
      "execution_count": null,
      "metadata": {
        "id": "YaTw2SNC_4zm"
      },
      "outputs": [],
      "source": [
        "if Условие:\n",
        "  Действие 1\n",
        "else:\n",
        "  Действие 2\n"
      ]
    },
    {
      "cell_type": "code",
      "source": [
        "number = int(input('Введите число: '))"
      ],
      "metadata": {
        "colab": {
          "base_uri": "https://localhost:8080/"
        },
        "id": "9ni7i6nWB-5O",
        "outputId": "1415f6fe-ce8f-4225-e48b-c60b7dfb4ba9"
      },
      "execution_count": 1,
      "outputs": [
        {
          "name": "stdout",
          "output_type": "stream",
          "text": [
            "Введите число: 8\n"
          ]
        }
      ]
    },
    {
      "cell_type": "code",
      "source": [
        "if number % 2 == 0:\n",
        "  print (f'число {number} четное')\n",
        "else:\n",
        "  print (f'число {number} нечетное')"
      ],
      "metadata": {
        "colab": {
          "base_uri": "https://localhost:8080/"
        },
        "id": "YZvlCO4cB-9N",
        "outputId": "b53c131a-8215-4a8f-a0a7-95a729ec1f8d"
      },
      "execution_count": 2,
      "outputs": [
        {
          "output_type": "stream",
          "name": "stdout",
          "text": [
            "число 8 четное\n"
          ]
        }
      ]
    },
    {
      "cell_type": "code",
      "source": [
        "print(f'число {number} четное' if number % 2 == 0 else 'нечетное')"
      ],
      "metadata": {
        "colab": {
          "base_uri": "https://localhost:8080/"
        },
        "id": "6zdd5l6cDUuM",
        "outputId": "104cccc2-7015-4737-a86a-a8244853d820"
      },
      "execution_count": 4,
      "outputs": [
        {
          "output_type": "stream",
          "name": "stdout",
          "text": [
            "число 8 четное\n"
          ]
        }
      ]
    },
    {
      "cell_type": "code",
      "source": [
        "if Условие 1:\n",
        "  Блок инструкций 1\n",
        "elif Условие 2:\n",
        "  Блок инструкций 2\n",
        "else:\n",
        "  Блок инструкций 3"
      ],
      "metadata": {
        "id": "OGEsRDg8Ez56"
      },
      "execution_count": null,
      "outputs": []
    },
    {
      "cell_type": "code",
      "source": [
        "number_1 = int(input('Введите первое число: '))\n",
        "number_2 = int(input('Введите второе число: '))"
      ],
      "metadata": {
        "colab": {
          "base_uri": "https://localhost:8080/"
        },
        "id": "R7G0pl3QFzWS",
        "outputId": "6fcccd7d-6855-4dbe-8c8b-059a171ca166"
      },
      "execution_count": 5,
      "outputs": [
        {
          "name": "stdout",
          "output_type": "stream",
          "text": [
            "Введите первое число: 5\n",
            "Введите второе число: 7\n"
          ]
        }
      ]
    },
    {
      "cell_type": "code",
      "source": [
        "if number_1 > number_2:\n",
        "  print (f'{number_1} > {number_2}')\n",
        "elif number_1 == number_2:\n",
        "  print (f'{number_1} = {number_2}')\n",
        "else:\n",
        "  print (f'{number_1} < {number_2}')"
      ],
      "metadata": {
        "colab": {
          "base_uri": "https://localhost:8080/"
        },
        "id": "DAXMTgSCGCjH",
        "outputId": "16904f8e-634b-4035-8c9e-79fbfdbc3c30"
      },
      "execution_count": 7,
      "outputs": [
        {
          "output_type": "stream",
          "name": "stdout",
          "text": [
            "5 < 7\n"
          ]
        }
      ]
    },
    {
      "cell_type": "markdown",
      "source": [
        "**Задача 1.** Максимальное число"
      ],
      "metadata": {
        "id": "kYUCxuhLHR52"
      }
    },
    {
      "cell_type": "code",
      "source": [
        "number_1 = int(input('Введите первое число: '))\n",
        "number_2 = int(input('Введите второе число: '))\n",
        "number_3 = int(input('Введите третие число: '))"
      ],
      "metadata": {
        "colab": {
          "base_uri": "https://localhost:8080/"
        },
        "id": "pFg47waeGCR_",
        "outputId": "8d01fb8e-817f-4fbe-849c-3bc2bed2106b"
      },
      "execution_count": 8,
      "outputs": [
        {
          "name": "stdout",
          "output_type": "stream",
          "text": [
            "Введите первое число: 5\n",
            "Введите второе число: 7\n",
            "Введите третие число: 3\n"
          ]
        }
      ]
    },
    {
      "cell_type": "code",
      "source": [
        "if number_1 > number_2 and number_1 > number_3:\n",
        "  print (f'{number_1} - максимальное число')\n",
        "elif number_2 > number_1 and number_2 > number_3:\n",
        "  print (f'{number_2} - максимальное число')\n",
        "else:\n",
        "  print (f'{number_3} - максимальное число')\n"
      ],
      "metadata": {
        "colab": {
          "base_uri": "https://localhost:8080/"
        },
        "id": "TXUkSvyvH4Zr",
        "outputId": "0cba593b-6d10-44ed-9717-6745d5f37dff"
      },
      "execution_count": 9,
      "outputs": [
        {
          "output_type": "stream",
          "name": "stdout",
          "text": [
            "7 - максимальное число\n"
          ]
        }
      ]
    },
    {
      "cell_type": "code",
      "source": [
        "if number_1 > number_2 & number_1 > number_3:\n",
        "  print (f'{number_1} - максимальное число')\n",
        "elif number_2 > number_1 & number_2 > number_3:\n",
        "  print (f'{number_2} - максимальное число')\n",
        "else:\n",
        "  print (f'{number_3} - максимальное число')"
      ],
      "metadata": {
        "colab": {
          "base_uri": "https://localhost:8080/"
        },
        "id": "7sC9Mu2PJE_x",
        "outputId": "052fd48d-1a4c-4bf6-9b5f-243def0c9e87"
      },
      "execution_count": 10,
      "outputs": [
        {
          "output_type": "stream",
          "name": "stdout",
          "text": [
            "7 - максимальное число\n"
          ]
        }
      ]
    },
    {
      "cell_type": "code",
      "source": [
        "number_1 = int(input('Введите первое число: '))\n",
        "number_2 = int(input('Введите второе число: '))\n",
        "number_3 = int(input('Введите третие число: '))"
      ],
      "metadata": {
        "colab": {
          "base_uri": "https://localhost:8080/"
        },
        "id": "MC2VpwY8KnPg",
        "outputId": "24ca153e-f9e2-4504-c045-07a896ad1c1e"
      },
      "execution_count": 11,
      "outputs": [
        {
          "name": "stdout",
          "output_type": "stream",
          "text": [
            "Введите первое число: 5\n",
            "Введите второе число: 4\n",
            "Введите третие число: 3\n"
          ]
        }
      ]
    },
    {
      "cell_type": "code",
      "source": [
        "if number_1 > number_3 or number_3 > number_2:\n",
        "  print (f'{number_1} > {number_3} или {number_3} > {number_2}')"
      ],
      "metadata": {
        "colab": {
          "base_uri": "https://localhost:8080/"
        },
        "id": "-RGge_d4H4ea",
        "outputId": "7c7d897a-e6dc-4e76-c252-f108503f6e3a"
      },
      "execution_count": 13,
      "outputs": [
        {
          "output_type": "stream",
          "name": "stdout",
          "text": [
            "5 > 3 или 3 > 4\n"
          ]
        }
      ]
    },
    {
      "cell_type": "code",
      "source": [
        "if number_1 > number_3 | number_3 > number_2:\n",
        "  print (f'{number_1} > {number_3} или {number_3} > {number_2}')"
      ],
      "metadata": {
        "id": "-VsKufTvLWXY"
      },
      "execution_count": 15,
      "outputs": []
    },
    {
      "cell_type": "markdown",
      "source": [
        "**Задача 2. Високосный год**"
      ],
      "metadata": {
        "id": "sC2Ka7-aMQ1G"
      }
    },
    {
      "cell_type": "code",
      "source": [
        "year = int (input ('Введите год: '))\n",
        "if (year % 4 == 0) and  (year % 100 != 0) or (year % 400 == 0):\n",
        "  print (f'год {year} - високосный')\n",
        "else:\n",
        "  print (f'год {year} - не високосный')"
      ],
      "metadata": {
        "colab": {
          "base_uri": "https://localhost:8080/"
        },
        "id": "OGrbK21KMKTx",
        "outputId": "795c0534-75dd-41fa-f350-52ea83c4c562"
      },
      "execution_count": 16,
      "outputs": [
        {
          "output_type": "stream",
          "name": "stdout",
          "text": [
            "Введите год: 2024\n",
            "год 2024 - високосный\n"
          ]
        }
      ]
    },
    {
      "cell_type": "code",
      "source": [
        "year = int (input ('Введите год: '))\n",
        "if (year % 4 == 0) and not (year % 100 == 0) or (year % 400 == 0):\n",
        "  print (f'год {year} - високосный')\n",
        "else:\n",
        "  print (f'год {year} - не високосный')"
      ],
      "metadata": {
        "colab": {
          "base_uri": "https://localhost:8080/"
        },
        "id": "ra1TuWX2OF0a",
        "outputId": "43c0621d-d90c-4dd4-97af-68858e905d5e"
      },
      "execution_count": 17,
      "outputs": [
        {
          "output_type": "stream",
          "name": "stdout",
          "text": [
            "Введите год: 2024\n",
            "год 2024 - високосный\n"
          ]
        }
      ]
    },
    {
      "cell_type": "markdown",
      "source": [
        "Цикл While"
      ],
      "metadata": {
        "id": "5AHrlXDdOltq"
      }
    },
    {
      "cell_type": "code",
      "source": [
        "count = 1\n",
        "while count < 10:\n",
        "  print (count)\n",
        "  count += 1\n"
      ],
      "metadata": {
        "colab": {
          "base_uri": "https://localhost:8080/"
        },
        "id": "Zj87yFfmMKdo",
        "outputId": "972e1d12-27cf-4d90-8885-87d90714a723"
      },
      "execution_count": 20,
      "outputs": [
        {
          "output_type": "stream",
          "name": "stdout",
          "text": [
            "1\n",
            "2\n",
            "3\n",
            "4\n",
            "5\n",
            "6\n",
            "7\n",
            "8\n",
            "9\n"
          ]
        }
      ]
    },
    {
      "cell_type": "code",
      "source": [
        "password = int (input ('Введите пароль: '))\n",
        "while password != 145:\n",
        "  print ('Пароль не верный')\n",
        "  password = int (input ('Введите пароль еще раз: '))\n",
        "print ('Пароль верный')"
      ],
      "metadata": {
        "colab": {
          "base_uri": "https://localhost:8080/"
        },
        "id": "bUGOwLHZQpLD",
        "outputId": "e6513e78-a659-4a04-9052-bc033d69655a"
      },
      "execution_count": 21,
      "outputs": [
        {
          "output_type": "stream",
          "name": "stdout",
          "text": [
            "Введите пароль: 57\n",
            "Пароль не верный\n",
            "Введите пароль еще раз: 145\n",
            "Пароль верный\n"
          ]
        }
      ]
    },
    {
      "cell_type": "code",
      "source": [
        "count = 0\n",
        "while count < 10:\n",
        "  if count == 5:\n",
        "    break\n",
        "  print (count)\n",
        "  count += 1"
      ],
      "metadata": {
        "colab": {
          "base_uri": "https://localhost:8080/"
        },
        "id": "4j3q-vrnQph6",
        "outputId": "ebbc0a81-6a96-436c-b999-49365f4c208c"
      },
      "execution_count": 22,
      "outputs": [
        {
          "output_type": "stream",
          "name": "stdout",
          "text": [
            "0\n",
            "1\n",
            "2\n",
            "3\n",
            "4\n"
          ]
        }
      ]
    },
    {
      "cell_type": "code",
      "source": [
        "count = 0\n",
        "while count < 10:\n",
        "  if count == 5:\n",
        "    count += 1\n",
        "    continue\n",
        "  print (count)\n",
        "  count += 1"
      ],
      "metadata": {
        "colab": {
          "base_uri": "https://localhost:8080/"
        },
        "id": "gCIBBNfuSPt0",
        "outputId": "67839bcf-fc06-4056-daef-2ff6bc01c223"
      },
      "execution_count": 23,
      "outputs": [
        {
          "output_type": "stream",
          "name": "stdout",
          "text": [
            "0\n",
            "1\n",
            "2\n",
            "3\n",
            "4\n",
            "6\n",
            "7\n",
            "8\n",
            "9\n"
          ]
        }
      ]
    },
    {
      "cell_type": "code",
      "source": [
        "count = 1\n",
        "while count <=5:\n",
        "  grade = int (input ('Введите количество баллов: '))\n",
        "  if grade < 60:\n",
        "    print ('Вы направлены на пересдачу')\n",
        "    break\n",
        "  count+=1\n",
        "else:\n",
        "  print('Поздравляю! Вы сдали сессию!')\n"
      ],
      "metadata": {
        "colab": {
          "base_uri": "https://localhost:8080/"
        },
        "id": "utebtDgbSQCa",
        "outputId": "540cd1de-adc2-4be2-d9a7-49c07fd9ecc7"
      },
      "execution_count": 25,
      "outputs": [
        {
          "output_type": "stream",
          "name": "stdout",
          "text": [
            "Введите количество баллов: 60\n",
            "Введите количество баллов: 60\n",
            "Введите количество баллов: 60\n",
            "Введите количество баллов: 60\n",
            "Введите количество баллов: 60\n",
            "Поздравляю! Вы сдали сессию!\n"
          ]
        }
      ]
    },
    {
      "cell_type": "markdown",
      "source": [
        "Бесконечный цикл"
      ],
      "metadata": {
        "id": "hgTpI1e0kY8a"
      }
    },
    {
      "cell_type": "code",
      "source": [
        "while True:\n",
        "  num = input ('Введите число: ')\n",
        "  if num == 'q':\n",
        "    print ('Приложение закрывается')\n",
        "    break\n",
        "  print(int(num)**2)\n"
      ],
      "metadata": {
        "colab": {
          "base_uri": "https://localhost:8080/"
        },
        "id": "4TmV3d0FkXqK",
        "outputId": "cbbcd16f-95f0-492f-d98b-f6f53fda9ec3"
      },
      "execution_count": 26,
      "outputs": [
        {
          "output_type": "stream",
          "name": "stdout",
          "text": [
            "Введите число: 5\n",
            "25\n",
            "Введите число: q\n",
            "Приложение закрывается\n"
          ]
        }
      ]
    },
    {
      "cell_type": "markdown",
      "source": [
        "Цикл For"
      ],
      "metadata": {
        "id": "7pyTe86Klk0O"
      }
    },
    {
      "cell_type": "code",
      "source": [
        "string = 'Python'\n",
        "for i in string:\n",
        "  print(i)"
      ],
      "metadata": {
        "colab": {
          "base_uri": "https://localhost:8080/"
        },
        "id": "TwHmXI0gkX8q",
        "outputId": "022e33d3-94a1-4ebd-95ce-587b3a325bb7"
      },
      "execution_count": 27,
      "outputs": [
        {
          "output_type": "stream",
          "name": "stdout",
          "text": [
            "P\n",
            "y\n",
            "t\n",
            "h\n",
            "o\n",
            "n\n"
          ]
        }
      ]
    },
    {
      "cell_type": "code",
      "source": [
        "for i in range(11):\n",
        "  print (i)"
      ],
      "metadata": {
        "colab": {
          "base_uri": "https://localhost:8080/"
        },
        "id": "7OtE5qXkkYFK",
        "outputId": "15ff70c9-72d4-4bb1-d58c-3b801a325551"
      },
      "execution_count": 29,
      "outputs": [
        {
          "output_type": "stream",
          "name": "stdout",
          "text": [
            "0\n",
            "1\n",
            "2\n",
            "3\n",
            "4\n",
            "5\n",
            "6\n",
            "7\n",
            "8\n",
            "9\n",
            "10\n"
          ]
        }
      ]
    },
    {
      "cell_type": "code",
      "source": [
        "for i in range(1,11):\n",
        "  print (i)"
      ],
      "metadata": {
        "colab": {
          "base_uri": "https://localhost:8080/"
        },
        "id": "CNfHU4v7nmrW",
        "outputId": "6f6f8b7b-b332-4f4b-c96e-2dc037137c11"
      },
      "execution_count": 30,
      "outputs": [
        {
          "output_type": "stream",
          "name": "stdout",
          "text": [
            "1\n",
            "2\n",
            "3\n",
            "4\n",
            "5\n",
            "6\n",
            "7\n",
            "8\n",
            "9\n",
            "10\n"
          ]
        }
      ]
    },
    {
      "cell_type": "code",
      "source": [
        "for i in range(1,11,2):\n",
        "  print (i)"
      ],
      "metadata": {
        "colab": {
          "base_uri": "https://localhost:8080/"
        },
        "id": "265qsuwGnwP1",
        "outputId": "1194a335-f686-46a9-a733-23e34e625274"
      },
      "execution_count": 31,
      "outputs": [
        {
          "output_type": "stream",
          "name": "stdout",
          "text": [
            "1\n",
            "3\n",
            "5\n",
            "7\n",
            "9\n"
          ]
        }
      ]
    },
    {
      "cell_type": "code",
      "source": [
        "for i in range(11,1):\n",
        "  print (i)"
      ],
      "metadata": {
        "id": "S2cjiQ8doCiJ"
      },
      "execution_count": 32,
      "outputs": []
    },
    {
      "cell_type": "code",
      "source": [
        "for i in range(10,0,-1):\n",
        "  print (i)"
      ],
      "metadata": {
        "colab": {
          "base_uri": "https://localhost:8080/"
        },
        "id": "ySRzramzoK4R",
        "outputId": "9933fdf7-1e47-46de-f8c0-eb6511292dbe"
      },
      "execution_count": 35,
      "outputs": [
        {
          "output_type": "stream",
          "name": "stdout",
          "text": [
            "10\n",
            "9\n",
            "8\n",
            "7\n",
            "6\n",
            "5\n",
            "4\n",
            "3\n",
            "2\n",
            "1\n"
          ]
        }
      ]
    },
    {
      "cell_type": "code",
      "source": [
        "for i in range(10,0,-2):\n",
        "  print (i)"
      ],
      "metadata": {
        "colab": {
          "base_uri": "https://localhost:8080/"
        },
        "id": "VTB3P1p8obf3",
        "outputId": "f787bdef-483d-4fdf-c218-c946934f0e6e"
      },
      "execution_count": 36,
      "outputs": [
        {
          "output_type": "stream",
          "name": "stdout",
          "text": [
            "10\n",
            "8\n",
            "6\n",
            "4\n",
            "2\n"
          ]
        }
      ]
    },
    {
      "cell_type": "code",
      "source": [
        "start = int(input('Введите точку \"start\": '))\n",
        "stop = int(input('Введите точку \"stop\": '))\n",
        "step = int(input('Введите шаг: '))"
      ],
      "metadata": {
        "colab": {
          "base_uri": "https://localhost:8080/"
        },
        "id": "MU2oqI_-SQHj",
        "outputId": "87e7c275-989c-4428-e5da-9a17f261fee9"
      },
      "execution_count": 37,
      "outputs": [
        {
          "name": "stdout",
          "output_type": "stream",
          "text": [
            "Введите точку \"start\": 1\n",
            "Введите точку \"stop\": 10\n",
            "Введите шаг: 2\n"
          ]
        }
      ]
    },
    {
      "cell_type": "code",
      "source": [
        "for i in range (start,stop,step):\n",
        "  print (i)"
      ],
      "metadata": {
        "colab": {
          "base_uri": "https://localhost:8080/"
        },
        "id": "fFTtXU9bo2EU",
        "outputId": "7e420cab-2832-489a-c120-1da2f614eed5"
      },
      "execution_count": 38,
      "outputs": [
        {
          "output_type": "stream",
          "name": "stdout",
          "text": [
            "1\n",
            "3\n",
            "5\n",
            "7\n",
            "9\n"
          ]
        }
      ]
    },
    {
      "cell_type": "code",
      "source": [
        "for i in range (start,stop+1):\n",
        "  print (i)"
      ],
      "metadata": {
        "colab": {
          "base_uri": "https://localhost:8080/"
        },
        "id": "2eDUo72npVlY",
        "outputId": "8ecc2968-bf82-4524-cf92-f75e7b8369b8"
      },
      "execution_count": 40,
      "outputs": [
        {
          "output_type": "stream",
          "name": "stdout",
          "text": [
            "1\n",
            "2\n",
            "3\n",
            "4\n",
            "5\n",
            "6\n",
            "7\n",
            "8\n",
            "9\n",
            "10\n"
          ]
        }
      ]
    },
    {
      "cell_type": "markdown",
      "source": [
        "**Задача. Факториал**"
      ],
      "metadata": {
        "id": "FztQ0Exipxb2"
      }
    },
    {
      "cell_type": "code",
      "source": [
        "# n! = 1*2*3*4*5*...n"
      ],
      "metadata": {
        "id": "X0VtUIx3pK4G"
      },
      "execution_count": null,
      "outputs": []
    },
    {
      "cell_type": "code",
      "source": [
        "faktorial = 1\n",
        "number = int (input ('Введите число: '))\n",
        "for i in range (1, number+1):\n",
        "  faktorial*=i\n",
        "print(faktorial)\n"
      ],
      "metadata": {
        "colab": {
          "base_uri": "https://localhost:8080/"
        },
        "id": "i6przE_mQpm6",
        "outputId": "0892b952-9ba9-48a2-fe92-80b4b131b086"
      },
      "execution_count": 41,
      "outputs": [
        {
          "output_type": "stream",
          "name": "stdout",
          "text": [
            "Введите число: 5\n",
            "120\n"
          ]
        }
      ]
    },
    {
      "cell_type": "markdown",
      "source": [
        "Вложенные циклы"
      ],
      "metadata": {
        "id": "PmjKMjRqrRHW"
      }
    },
    {
      "cell_type": "code",
      "source": [
        "for i in range (1, 11):\n",
        "  for j in range (1, 11):\n",
        "    print (f'{i}*{j} = {i*j}')\n",
        "  print()"
      ],
      "metadata": {
        "colab": {
          "base_uri": "https://localhost:8080/"
        },
        "id": "zrOuDvOPLWf3",
        "outputId": "12dd026d-6bf9-4724-a128-ba3a3b232f4c"
      },
      "execution_count": 43,
      "outputs": [
        {
          "output_type": "stream",
          "name": "stdout",
          "text": [
            "1*1 = 1\n",
            "1*2 = 2\n",
            "1*3 = 3\n",
            "1*4 = 4\n",
            "1*5 = 5\n",
            "1*6 = 6\n",
            "1*7 = 7\n",
            "1*8 = 8\n",
            "1*9 = 9\n",
            "1*10 = 10\n",
            "\n",
            "2*1 = 2\n",
            "2*2 = 4\n",
            "2*3 = 6\n",
            "2*4 = 8\n",
            "2*5 = 10\n",
            "2*6 = 12\n",
            "2*7 = 14\n",
            "2*8 = 16\n",
            "2*9 = 18\n",
            "2*10 = 20\n",
            "\n",
            "3*1 = 3\n",
            "3*2 = 6\n",
            "3*3 = 9\n",
            "3*4 = 12\n",
            "3*5 = 15\n",
            "3*6 = 18\n",
            "3*7 = 21\n",
            "3*8 = 24\n",
            "3*9 = 27\n",
            "3*10 = 30\n",
            "\n",
            "4*1 = 4\n",
            "4*2 = 8\n",
            "4*3 = 12\n",
            "4*4 = 16\n",
            "4*5 = 20\n",
            "4*6 = 24\n",
            "4*7 = 28\n",
            "4*8 = 32\n",
            "4*9 = 36\n",
            "4*10 = 40\n",
            "\n",
            "5*1 = 5\n",
            "5*2 = 10\n",
            "5*3 = 15\n",
            "5*4 = 20\n",
            "5*5 = 25\n",
            "5*6 = 30\n",
            "5*7 = 35\n",
            "5*8 = 40\n",
            "5*9 = 45\n",
            "5*10 = 50\n",
            "\n",
            "6*1 = 6\n",
            "6*2 = 12\n",
            "6*3 = 18\n",
            "6*4 = 24\n",
            "6*5 = 30\n",
            "6*6 = 36\n",
            "6*7 = 42\n",
            "6*8 = 48\n",
            "6*9 = 54\n",
            "6*10 = 60\n",
            "\n",
            "7*1 = 7\n",
            "7*2 = 14\n",
            "7*3 = 21\n",
            "7*4 = 28\n",
            "7*5 = 35\n",
            "7*6 = 42\n",
            "7*7 = 49\n",
            "7*8 = 56\n",
            "7*9 = 63\n",
            "7*10 = 70\n",
            "\n",
            "8*1 = 8\n",
            "8*2 = 16\n",
            "8*3 = 24\n",
            "8*4 = 32\n",
            "8*5 = 40\n",
            "8*6 = 48\n",
            "8*7 = 56\n",
            "8*8 = 64\n",
            "8*9 = 72\n",
            "8*10 = 80\n",
            "\n",
            "9*1 = 9\n",
            "9*2 = 18\n",
            "9*3 = 27\n",
            "9*4 = 36\n",
            "9*5 = 45\n",
            "9*6 = 54\n",
            "9*7 = 63\n",
            "9*8 = 72\n",
            "9*9 = 81\n",
            "9*10 = 90\n",
            "\n",
            "10*1 = 10\n",
            "10*2 = 20\n",
            "10*3 = 30\n",
            "10*4 = 40\n",
            "10*5 = 50\n",
            "10*6 = 60\n",
            "10*7 = 70\n",
            "10*8 = 80\n",
            "10*9 = 90\n",
            "10*10 = 100\n",
            "\n"
          ]
        }
      ]
    },
    {
      "cell_type": "code",
      "source": [
        "for i in range (1, 11):\n",
        "  for j in range (1, 11):\n",
        "    print (i*j, end = '\\t' )\n",
        "  print()"
      ],
      "metadata": {
        "colab": {
          "base_uri": "https://localhost:8080/"
        },
        "id": "uvVxDRqjtiC6",
        "outputId": "e1d872cb-b9d1-4c56-b1df-9588e0b3abce"
      },
      "execution_count": 45,
      "outputs": [
        {
          "output_type": "stream",
          "name": "stdout",
          "text": [
            "1\t2\t3\t4\t5\t6\t7\t8\t9\t10\t\n",
            "2\t4\t6\t8\t10\t12\t14\t16\t18\t20\t\n",
            "3\t6\t9\t12\t15\t18\t21\t24\t27\t30\t\n",
            "4\t8\t12\t16\t20\t24\t28\t32\t36\t40\t\n",
            "5\t10\t15\t20\t25\t30\t35\t40\t45\t50\t\n",
            "6\t12\t18\t24\t30\t36\t42\t48\t54\t60\t\n",
            "7\t14\t21\t28\t35\t42\t49\t56\t63\t70\t\n",
            "8\t16\t24\t32\t40\t48\t56\t64\t72\t80\t\n",
            "9\t18\t27\t36\t45\t54\t63\t72\t81\t90\t\n",
            "10\t20\t30\t40\t50\t60\t70\t80\t90\t100\t\n"
          ]
        }
      ]
    },
    {
      "cell_type": "code",
      "source": [
        "text = 'Python'\n",
        "for i in text:\n",
        "  print (i, end = ' ')"
      ],
      "metadata": {
        "colab": {
          "base_uri": "https://localhost:8080/"
        },
        "id": "rWK7OUiBuNov",
        "outputId": "7075f38f-5869-4186-ad78-b795e7748126"
      },
      "execution_count": 46,
      "outputs": [
        {
          "output_type": "stream",
          "name": "stdout",
          "text": [
            "P y t h o n "
          ]
        }
      ]
    },
    {
      "cell_type": "code",
      "source": [
        "print ('Иван \\n Петров')"
      ],
      "metadata": {
        "colab": {
          "base_uri": "https://localhost:8080/"
        },
        "id": "kcDDLydvrOmv",
        "outputId": "206d453f-9bd2-4db8-c640-6831f972d244"
      },
      "execution_count": 49,
      "outputs": [
        {
          "output_type": "stream",
          "name": "stdout",
          "text": [
            "Иван \n",
            " Петров\n"
          ]
        }
      ]
    },
    {
      "cell_type": "code",
      "source": [
        "name = ''' Иван\n",
        "Петров '''"
      ],
      "metadata": {
        "id": "1nUbjm1VrOrf"
      },
      "execution_count": 50,
      "outputs": []
    },
    {
      "cell_type": "code",
      "source": [
        "print (name)"
      ],
      "metadata": {
        "colab": {
          "base_uri": "https://localhost:8080/"
        },
        "id": "CN46m1w8H4iz",
        "outputId": "5e39c7a7-67a2-4193-e199-fa38f916e522"
      },
      "execution_count": 52,
      "outputs": [
        {
          "output_type": "stream",
          "name": "stdout",
          "text": [
            " Иван\n",
            "Петров \n"
          ]
        }
      ]
    },
    {
      "cell_type": "code",
      "source": [
        "count = 3\n",
        "for attempt in range (1,4):\n",
        "  password = input ('Введите пароль: ')\n",
        "  if password == '453':\n",
        "    print ('Пароль верный. Добро пожаловать!')\n",
        "    break\n",
        "  count -= 1\n",
        "  print (f'Ошибка! Введите пароль еще раз. Осталось попыток {3-attempt}')\n",
        "  if count == 0:\n",
        "    print ('Количество попыток закончилось')"
      ],
      "metadata": {
        "colab": {
          "base_uri": "https://localhost:8080/"
        },
        "id": "ON6z2VoQFzjh",
        "outputId": "5bb74c8e-8b94-430a-f58c-f5c1b3e675fc"
      },
      "execution_count": 56,
      "outputs": [
        {
          "output_type": "stream",
          "name": "stdout",
          "text": [
            "Введите пароль: 5967\n",
            "Ошибка! Введите пароль еще раз. Осталось попыток 2\n",
            "Введите пароль: 494+6\n",
            "Ошибка! Введите пароль еще раз. Осталось попыток 1\n",
            "Введите пароль: 45456\n",
            "Ошибка! Введите пароль еще раз. Осталось попыток 0\n",
            "Количество попыток закончилось\n"
          ]
        }
      ]
    },
    {
      "cell_type": "code",
      "source": [],
      "metadata": {
        "id": "ak8NkENsEz-K"
      },
      "execution_count": null,
      "outputs": []
    }
  ]
}