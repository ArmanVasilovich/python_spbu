{
  "nbformat": 4,
  "nbformat_minor": 0,
  "metadata": {
    "colab": {
      "provenance": []
    },
    "kernelspec": {
      "name": "python3",
      "display_name": "Python 3"
    },
    "language_info": {
      "name": "python"
    }
  },
  "cells": [
    {
      "cell_type": "code",
      "execution_count": 1,
      "metadata": {
        "colab": {
          "base_uri": "https://localhost:8080/",
          "height": 141
        },
        "id": "r2VA-3IUac-R",
        "outputId": "81e41113-7347-4436-db7c-d17e595f6c87"
      },
      "outputs": [
        {
          "output_type": "error",
          "ename": "ZeroDivisionError",
          "evalue": "division by zero",
          "traceback": [
            "\u001b[0;31m---------------------------------------------------------------------------\u001b[0m",
            "\u001b[0;31mZeroDivisionError\u001b[0m                         Traceback (most recent call last)",
            "\u001b[0;32m<ipython-input-1-9e1622b385b6>\u001b[0m in \u001b[0;36m<cell line: 1>\u001b[0;34m()\u001b[0m\n\u001b[0;32m----> 1\u001b[0;31m \u001b[0;36m1\u001b[0m\u001b[0;34m/\u001b[0m\u001b[0;36m0\u001b[0m\u001b[0;34m\u001b[0m\u001b[0;34m\u001b[0m\u001b[0m\n\u001b[0m",
            "\u001b[0;31mZeroDivisionError\u001b[0m: division by zero"
          ]
        }
      ],
      "source": [
        "1/0"
      ]
    },
    {
      "cell_type": "code",
      "source": [
        "a,b = 10,0"
      ],
      "metadata": {
        "id": "Jvy1Jxsfaiuj"
      },
      "execution_count": 9,
      "outputs": []
    },
    {
      "cell_type": "code",
      "source": [
        "try:\n",
        "  result = a/b\n",
        "  print(result)\n",
        "except:\n",
        "  print ('Делить на ноль нельзя')"
      ],
      "metadata": {
        "colab": {
          "base_uri": "https://localhost:8080/"
        },
        "id": "NHjv6oikaixy",
        "outputId": "542d3af8-e7c3-48aa-ee98-5aab81f8cf78"
      },
      "execution_count": 3,
      "outputs": [
        {
          "output_type": "stream",
          "name": "stdout",
          "text": [
            "Делить на ноль нельзя\n"
          ]
        }
      ]
    },
    {
      "cell_type": "code",
      "source": [
        "try:\n",
        "  result = a/b\n",
        "except:\n",
        "  print ('Делить на ноль нельзя')\n",
        "else:\n",
        "  print(result)\n",
        "  print('Этот блок выполняется, если ошибок не было')"
      ],
      "metadata": {
        "colab": {
          "base_uri": "https://localhost:8080/"
        },
        "id": "MofPCG5FbheI",
        "outputId": "0292681c-99aa-4a87-8354-e1d7f66d895c"
      },
      "execution_count": 7,
      "outputs": [
        {
          "output_type": "stream",
          "name": "stdout",
          "text": [
            "5.0\n",
            "Этот блок выполняется, если ошибок не было\n"
          ]
        }
      ]
    },
    {
      "cell_type": "code",
      "source": [
        "try:\n",
        "  result = a/b\n",
        "except:\n",
        "  print ('Делить на ноль нельзя')\n",
        "else:\n",
        "  print(result)\n",
        "  print('Этот блок выполняется, если ошибок не было')\n",
        "finally:\n",
        "  print('Выполняется в любом случае')"
      ],
      "metadata": {
        "colab": {
          "base_uri": "https://localhost:8080/"
        },
        "id": "ohbtZ4x6ai1T",
        "outputId": "a7c70fcd-bbe3-4729-e0eb-f46e9f1248e5"
      },
      "execution_count": 10,
      "outputs": [
        {
          "output_type": "stream",
          "name": "stdout",
          "text": [
            "Делить на ноль нельзя\n",
            "Выполняется в любом случае\n"
          ]
        }
      ]
    },
    {
      "cell_type": "code",
      "source": [
        "a,b = 10,'0'"
      ],
      "metadata": {
        "id": "DSjbXvT3ai5b"
      },
      "execution_count": 20,
      "outputs": []
    },
    {
      "cell_type": "code",
      "source": [
        "try:\n",
        "  result = a/b\n",
        "except ZeroDivisionError:\n",
        "  print ('Делить на ноль нельзя')\n",
        "except TypeError:\n",
        "  print ('Проверить тип данных')"
      ],
      "metadata": {
        "colab": {
          "base_uri": "https://localhost:8080/"
        },
        "id": "FUfz3d2vrK7K",
        "outputId": "80eec109-64c0-4bab-fc65-3988af695e2d"
      },
      "execution_count": 21,
      "outputs": [
        {
          "output_type": "stream",
          "name": "stdout",
          "text": [
            "Проверить тип данных\n"
          ]
        }
      ]
    },
    {
      "cell_type": "code",
      "source": [],
      "metadata": {
        "id": "wEt6Hlb5rK-R"
      },
      "execution_count": null,
      "outputs": []
    },
    {
      "cell_type": "code",
      "source": [],
      "metadata": {
        "id": "zNdZ7QHZrLCJ"
      },
      "execution_count": null,
      "outputs": []
    },
    {
      "cell_type": "code",
      "source": [],
      "metadata": {
        "id": "SVD5PaoRrLGZ"
      },
      "execution_count": null,
      "outputs": []
    }
  ]
}