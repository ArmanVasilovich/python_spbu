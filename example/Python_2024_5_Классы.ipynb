{
  "nbformat": 4,
  "nbformat_minor": 0,
  "metadata": {
    "colab": {
      "provenance": []
    },
    "kernelspec": {
      "name": "python3",
      "display_name": "Python 3"
    },
    "language_info": {
      "name": "python"
    }
  },
  "cells": [
    {
      "cell_type": "code",
      "execution_count": null,
      "metadata": {
        "id": "RfWWWoGdw6vT"
      },
      "outputs": [],
      "source": [
        "class User:\n",
        "  userName = 'admin'\n",
        "  password = 'qwerty'\n",
        "\n",
        "  def info(self):\n",
        "    print (f' Имя: {self.userName}, Пароль: {self.password}')"
      ]
    },
    {
      "cell_type": "code",
      "source": [
        "user_1 = User()"
      ],
      "metadata": {
        "id": "JL4yGzV5yfXF"
      },
      "execution_count": null,
      "outputs": []
    },
    {
      "cell_type": "code",
      "source": [
        "user_1.userName = 'Ivan'"
      ],
      "metadata": {
        "id": "KedzvcyhyfgD"
      },
      "execution_count": null,
      "outputs": []
    },
    {
      "cell_type": "code",
      "source": [
        "user_1.userName"
      ],
      "metadata": {
        "colab": {
          "base_uri": "https://localhost:8080/",
          "height": 35
        },
        "id": "egzBn3PSy8Wr",
        "outputId": "c69d6215-fd83-4847-8e80-5ae20e8fdb32"
      },
      "execution_count": null,
      "outputs": [
        {
          "output_type": "execute_result",
          "data": {
            "text/plain": [
              "'Ivan'"
            ],
            "application/vnd.google.colaboratory.intrinsic+json": {
              "type": "string"
            }
          },
          "metadata": {},
          "execution_count": 12
        }
      ]
    },
    {
      "cell_type": "code",
      "source": [
        "User.userName"
      ],
      "metadata": {
        "colab": {
          "base_uri": "https://localhost:8080/",
          "height": 35
        },
        "id": "H3mvQzgky_ma",
        "outputId": "c24389e9-3b7d-4383-9adc-cf0555c57e17"
      },
      "execution_count": null,
      "outputs": [
        {
          "output_type": "execute_result",
          "data": {
            "text/plain": [
              "'admin'"
            ],
            "application/vnd.google.colaboratory.intrinsic+json": {
              "type": "string"
            }
          },
          "metadata": {},
          "execution_count": 7
        }
      ]
    },
    {
      "cell_type": "code",
      "source": [
        "user_1.info()"
      ],
      "metadata": {
        "colab": {
          "base_uri": "https://localhost:8080/"
        },
        "id": "l7-rgkRCz42x",
        "outputId": "230118c7-fa38-4c5e-a85a-2f144df59791"
      },
      "execution_count": null,
      "outputs": [
        {
          "output_type": "stream",
          "name": "stdout",
          "text": [
            " Имя: Ivan, Пароль: qwerty\n"
          ]
        }
      ]
    },
    {
      "cell_type": "code",
      "source": [],
      "metadata": {
        "id": "95Zhjb220eRu"
      },
      "execution_count": null,
      "outputs": []
    },
    {
      "cell_type": "markdown",
      "source": [
        "Конструктор класса"
      ],
      "metadata": {
        "id": "h9HYI7_X0Zmo"
      }
    },
    {
      "cell_type": "code",
      "source": [
        "class Student:\n",
        "  def __init__(self,name,surname,age,group):\n",
        "    self.name = name\n",
        "    self.surname = surname\n",
        "    self.age = age\n",
        "    self.group = group\n",
        "\n",
        "  def info(self):\n",
        "    print (f' Имя: {self.name}, Фамилия: {self.surname}, Возраст: {self.age}, Группа: {self.group}')\n",
        "\n"
      ],
      "metadata": {
        "id": "ynPKLyhh0e3f"
      },
      "execution_count": null,
      "outputs": []
    },
    {
      "cell_type": "code",
      "source": [
        "student_1 = Student('Иван','Иванов', 18, 5)"
      ],
      "metadata": {
        "id": "70bmnNV80e7A"
      },
      "execution_count": null,
      "outputs": []
    },
    {
      "cell_type": "code",
      "source": [
        "student_1.info()"
      ],
      "metadata": {
        "colab": {
          "base_uri": "https://localhost:8080/"
        },
        "id": "XcYAHZGM0e_Z",
        "outputId": "e16017cb-c45a-405a-f072-330bed3d9985"
      },
      "execution_count": null,
      "outputs": [
        {
          "output_type": "stream",
          "name": "stdout",
          "text": [
            " Имя: Иван, Фамилия: Иванов, Возраст: 18, Группа: 5\n"
          ]
        }
      ]
    },
    {
      "cell_type": "markdown",
      "source": [
        "**Задача 1.** Дан список фамилий людей и нужно вывести фамилии, которые оканчиваются на \"ов\" и возраст больше 30"
      ],
      "metadata": {
        "id": "Vtbw5aC73fx1"
      }
    },
    {
      "cell_type": "code",
      "source": [
        "names = ['Петров', 'Иванов','Сидоров', 'Матюхин',\n",
        "         'Воронов', 'Ли', 'Васильцов', 'Сенченко']\n",
        "ages = [12,33,56,34,26,30,19,30]"
      ],
      "metadata": {
        "id": "riWjDetu31Rb"
      },
      "execution_count": null,
      "outputs": []
    },
    {
      "cell_type": "code",
      "source": [
        "len(names)"
      ],
      "metadata": {
        "colab": {
          "base_uri": "https://localhost:8080/"
        },
        "id": "CMwW-1U331VN",
        "outputId": "7b1738c7-b1f1-4f41-c7f4-14895832caf9"
      },
      "execution_count": null,
      "outputs": [
        {
          "output_type": "execute_result",
          "data": {
            "text/plain": [
              "8"
            ]
          },
          "metadata": {},
          "execution_count": 21
        }
      ]
    },
    {
      "cell_type": "code",
      "source": [
        "len(ages)"
      ],
      "metadata": {
        "colab": {
          "base_uri": "https://localhost:8080/"
        },
        "id": "pKZuRrWw31Zq",
        "outputId": "ff9fd6e1-e8f6-4c89-ebdb-8225391f9124"
      },
      "execution_count": null,
      "outputs": [
        {
          "output_type": "execute_result",
          "data": {
            "text/plain": [
              "8"
            ]
          },
          "metadata": {},
          "execution_count": 22
        }
      ]
    },
    {
      "cell_type": "code",
      "source": [
        "for i in range(len(names)):\n",
        "  names_length = len(names[i])\n",
        "  if names[i][(names_length-2):names_length] =='ов' and ages[i]>30:\n",
        "    print(names[i])"
      ],
      "metadata": {
        "colab": {
          "base_uri": "https://localhost:8080/"
        },
        "id": "DpDYSJk_4q_1",
        "outputId": "4379c685-ed5f-437f-e37d-20d81c1cd54e"
      },
      "execution_count": null,
      "outputs": [
        {
          "output_type": "stream",
          "name": "stdout",
          "text": [
            "Иванов\n",
            "Сидоров\n"
          ]
        }
      ]
    },
    {
      "cell_type": "code",
      "source": [
        "for i, name in enumerate(names):\n",
        "  if name.endswith('ов') and ages[i]>30:\n",
        "    print(name)"
      ],
      "metadata": {
        "colab": {
          "base_uri": "https://localhost:8080/"
        },
        "id": "0drnsdJo6xh3",
        "outputId": "fc3092ef-928c-4973-db2d-f96e4d14b6f0"
      },
      "execution_count": null,
      "outputs": [
        {
          "output_type": "stream",
          "name": "stdout",
          "text": [
            "Иванов\n",
            "Сидоров\n"
          ]
        }
      ]
    },
    {
      "cell_type": "code",
      "source": [
        "for name, age in zip(names,ages):\n",
        "  if name.endswith('ов') and age >30:\n",
        "    print(name)"
      ],
      "metadata": {
        "colab": {
          "base_uri": "https://localhost:8080/"
        },
        "id": "8o6Yvr5H4rEU",
        "outputId": "1924d173-998e-4fc8-c23c-3cfbb1313550"
      },
      "execution_count": null,
      "outputs": [
        {
          "output_type": "stream",
          "name": "stdout",
          "text": [
            "Иванов\n",
            "Сидоров\n"
          ]
        }
      ]
    },
    {
      "cell_type": "code",
      "source": [
        "class Student:\n",
        "  def __init__(self,name,age):\n",
        "    self.name = name\n",
        "    self.age = age"
      ],
      "metadata": {
        "id": "L3fyBQBeJ-ss"
      },
      "execution_count": 1,
      "outputs": []
    },
    {
      "cell_type": "code",
      "source": [
        "students = []\n",
        "students.append(Student ('Петров', 19))\n",
        "students.append(Student('Иванов', 33))\n",
        "students.append(Student('Васильцов', 56))\n",
        "students.append(Student('Матюхин', 34))\n",
        "students.append(Student('Воронов',26))\n",
        "students.append(Student('Сидоров', 31))\n",
        "students.append(Student('Васильцов', 19))\n",
        "students.append(Student('Сенченко', 30))"
      ],
      "metadata": {
        "id": "gAKQVeIOJ-3S"
      },
      "execution_count": 2,
      "outputs": []
    },
    {
      "cell_type": "code",
      "source": [
        "for i in students:\n",
        "  if i.name.endswith('ов') and i.age  > 30:\n",
        "    print(i.name)"
      ],
      "metadata": {
        "colab": {
          "base_uri": "https://localhost:8080/"
        },
        "id": "XRrp_qMxMSTZ",
        "outputId": "e98428e1-b233-4873-ca54-4b933d8ef346"
      },
      "execution_count": 3,
      "outputs": [
        {
          "output_type": "stream",
          "name": "stdout",
          "text": [
            "Иванов\n",
            "Васильцов\n",
            "Сидоров\n"
          ]
        }
      ]
    },
    {
      "cell_type": "markdown",
      "source": [
        "**Наследование**"
      ],
      "metadata": {
        "id": "S4llFV8CNsXw"
      }
    },
    {
      "cell_type": "code",
      "source": [
        "class Parent:\n",
        "  parent_attr = 100\n",
        "\n",
        "  def __init__(self):\n",
        "    print ('Вызов родительского конструктора')\n",
        "\n",
        "  def parent_method (self):\n",
        "    print('Вызов родительского метода')\n",
        "\n",
        "  def set_attr(self, attr):\n",
        "    Parent.parent_attr = attr\n",
        "\n",
        "  def get_attr (self):\n",
        "    print (f'Атрибут родителя: {Parent.parent_attr}')\n"
      ],
      "metadata": {
        "id": "VAURYK-7NxtH"
      },
      "execution_count": 5,
      "outputs": []
    },
    {
      "cell_type": "code",
      "source": [
        "class Child(Parent):\n",
        "  def child_method(self):\n",
        "    print('Вызов метода класса наследника')"
      ],
      "metadata": {
        "id": "bE_-3L8LNxww"
      },
      "execution_count": 6,
      "outputs": []
    },
    {
      "cell_type": "code",
      "source": [
        "my_class = Child()"
      ],
      "metadata": {
        "colab": {
          "base_uri": "https://localhost:8080/"
        },
        "id": "BVSv-B-lNx1x",
        "outputId": "4cc78c60-f9b0-4601-e324-b9f44b1e0f27"
      },
      "execution_count": 7,
      "outputs": [
        {
          "output_type": "stream",
          "name": "stdout",
          "text": [
            "Вызов родительского конструктора\n"
          ]
        }
      ]
    },
    {
      "cell_type": "code",
      "source": [
        "my_class.child_method()"
      ],
      "metadata": {
        "colab": {
          "base_uri": "https://localhost:8080/"
        },
        "id": "ifHDZ63wNyIm",
        "outputId": "8587b3e8-85d4-4d78-bd5b-21397eaacf9a"
      },
      "execution_count": 8,
      "outputs": [
        {
          "output_type": "stream",
          "name": "stdout",
          "text": [
            "Вызов метода класса наследника\n"
          ]
        }
      ]
    },
    {
      "cell_type": "code",
      "source": [
        "my_class.parent_method()"
      ],
      "metadata": {
        "colab": {
          "base_uri": "https://localhost:8080/"
        },
        "id": "gmcD2V0SQHxo",
        "outputId": "6af125a4-d03b-4239-be73-284443b5a97e"
      },
      "execution_count": 9,
      "outputs": [
        {
          "output_type": "stream",
          "name": "stdout",
          "text": [
            "Вызов родительского метода\n"
          ]
        }
      ]
    },
    {
      "cell_type": "code",
      "source": [
        "my_class.set_attr(200)"
      ],
      "metadata": {
        "id": "k6d-FV-UQR03"
      },
      "execution_count": 10,
      "outputs": []
    },
    {
      "cell_type": "code",
      "source": [
        "my_class.get_attr()"
      ],
      "metadata": {
        "colab": {
          "base_uri": "https://localhost:8080/"
        },
        "id": "FSlGCvKEQd6_",
        "outputId": "f54c4275-a774-44e1-9871-302f3163456c"
      },
      "execution_count": 11,
      "outputs": [
        {
          "output_type": "stream",
          "name": "stdout",
          "text": [
            "Атрибут родителя: 200\n"
          ]
        }
      ]
    },
    {
      "cell_type": "code",
      "source": [
        "class Person:\n",
        "  def __init__(self, name, age):\n",
        "    self.name = name\n",
        "    self.age = age\n",
        "\n",
        "  def introduce(self):\n",
        "    print (f'Мое имя - {self.name}, возраст - {self.age}')"
      ],
      "metadata": {
        "id": "OJRzk5xgQ1DN"
      },
      "execution_count": 12,
      "outputs": []
    },
    {
      "cell_type": "code",
      "source": [
        "class Student(Person):\n",
        "  def __init__(self, name,age, course):\n",
        "    super().__init__(name,age)\n",
        "    self.course = course\n",
        "\n",
        "  def inroduce (self):\n",
        "    super().introduce()\n",
        "    print (f'Я на {self.course} курсе')"
      ],
      "metadata": {
        "id": "SUYazuw5Q1MN"
      },
      "execution_count": 15,
      "outputs": []
    },
    {
      "cell_type": "code",
      "source": [
        "student1 = Student('Иван', 20,2)\n",
        "student1.inroduce()"
      ],
      "metadata": {
        "colab": {
          "base_uri": "https://localhost:8080/"
        },
        "id": "IjgZjXGCSqfG",
        "outputId": "2ce5a34d-e4ed-4eb7-a0ac-8fd739397f49"
      },
      "execution_count": 16,
      "outputs": [
        {
          "output_type": "stream",
          "name": "stdout",
          "text": [
            "Мое имя - Иван, возраст - 20\n",
            "Я на 2 курсе\n"
          ]
        }
      ]
    },
    {
      "cell_type": "markdown",
      "source": [
        "**Инкапсуляция**"
      ],
      "metadata": {
        "id": "ghRKE_8JT9iR"
      }
    },
    {
      "cell_type": "code",
      "source": [
        "p1 = Person('Vladimir', 20)"
      ],
      "metadata": {
        "id": "h3uqrSwyT8rq"
      },
      "execution_count": 17,
      "outputs": []
    },
    {
      "cell_type": "code",
      "source": [
        "p1.age = 25\n",
        "p1.age"
      ],
      "metadata": {
        "colab": {
          "base_uri": "https://localhost:8080/"
        },
        "id": "-mBua_UdT8vg",
        "outputId": "9fad28d7-342f-439d-e528-ca70496acfa5"
      },
      "execution_count": 19,
      "outputs": [
        {
          "output_type": "execute_result",
          "data": {
            "text/plain": [
              "25"
            ]
          },
          "metadata": {},
          "execution_count": 19
        }
      ]
    },
    {
      "cell_type": "code",
      "source": [
        "p1.age = -25\n",
        "p1.age"
      ],
      "metadata": {
        "colab": {
          "base_uri": "https://localhost:8080/"
        },
        "id": "Oc1fzaixT80D",
        "outputId": "d68d5245-e4e9-49e5-aac3-6fb65dba2d4e"
      },
      "execution_count": 20,
      "outputs": [
        {
          "output_type": "execute_result",
          "data": {
            "text/plain": [
              "-25"
            ]
          },
          "metadata": {},
          "execution_count": 20
        }
      ]
    },
    {
      "cell_type": "code",
      "source": [
        "class Person:\n",
        "  def __init__(self, name, age):\n",
        "    self.__name = name\n",
        "    self.__age = age\n",
        "\n",
        "  def introduce(self):\n",
        "    print (f'Мое имя - {self.__name}, возраст - {self.__age}')\n",
        "\n",
        "  def set_age(self,age):\n",
        "    if 18 <= age <= 65:\n",
        "      self.__age = age\n",
        "\n",
        "    else:\n",
        "      raise ValueError ('Вы ввели некорректный возраст')\n",
        "\n",
        "  def get_age (self):\n",
        "    return self.__age"
      ],
      "metadata": {
        "id": "vsJ7qeu3Q1Vm"
      },
      "execution_count": 25,
      "outputs": []
    },
    {
      "cell_type": "code",
      "source": [
        "p1 = Person('Vladimir', 20)"
      ],
      "metadata": {
        "id": "g31KvTMuVJD5"
      },
      "execution_count": 26,
      "outputs": []
    },
    {
      "cell_type": "code",
      "source": [
        "p1.__age"
      ],
      "metadata": {
        "colab": {
          "base_uri": "https://localhost:8080/",
          "height": 144
        },
        "id": "0n18Vw7yVOio",
        "outputId": "97e89abc-57b9-4209-d763-55cd10cc24ed"
      },
      "execution_count": 27,
      "outputs": [
        {
          "output_type": "error",
          "ename": "AttributeError",
          "evalue": "'Person' object has no attribute '__age'",
          "traceback": [
            "\u001b[0;31m---------------------------------------------------------------------------\u001b[0m",
            "\u001b[0;31mAttributeError\u001b[0m                            Traceback (most recent call last)",
            "\u001b[0;32m<ipython-input-27-8bf0f983f24c>\u001b[0m in \u001b[0;36m<cell line: 1>\u001b[0;34m()\u001b[0m\n\u001b[0;32m----> 1\u001b[0;31m \u001b[0mp1\u001b[0m\u001b[0;34m.\u001b[0m\u001b[0m__age\u001b[0m\u001b[0;34m\u001b[0m\u001b[0;34m\u001b[0m\u001b[0m\n\u001b[0m",
            "\u001b[0;31mAttributeError\u001b[0m: 'Person' object has no attribute '__age'"
          ]
        }
      ]
    },
    {
      "cell_type": "code",
      "source": [
        "p1.set_age(10)"
      ],
      "metadata": {
        "colab": {
          "base_uri": "https://localhost:8080/",
          "height": 268
        },
        "id": "RUzUbJNpXCE6",
        "outputId": "faec0fe3-76f8-439b-b01a-5839e7b54468"
      },
      "execution_count": 28,
      "outputs": [
        {
          "output_type": "error",
          "ename": "ValueError",
          "evalue": "Вы ввели некорректный возраст",
          "traceback": [
            "\u001b[0;31m---------------------------------------------------------------------------\u001b[0m",
            "\u001b[0;31mValueError\u001b[0m                                Traceback (most recent call last)",
            "\u001b[0;32m<ipython-input-28-c4b73b50d27c>\u001b[0m in \u001b[0;36m<cell line: 1>\u001b[0;34m()\u001b[0m\n\u001b[0;32m----> 1\u001b[0;31m \u001b[0mp1\u001b[0m\u001b[0;34m.\u001b[0m\u001b[0mset_age\u001b[0m\u001b[0;34m(\u001b[0m\u001b[0;36m10\u001b[0m\u001b[0;34m)\u001b[0m\u001b[0;34m\u001b[0m\u001b[0;34m\u001b[0m\u001b[0m\n\u001b[0m",
            "\u001b[0;32m<ipython-input-25-d039956214b5>\u001b[0m in \u001b[0;36mset_age\u001b[0;34m(self, age)\u001b[0m\n\u001b[1;32m     12\u001b[0m \u001b[0;34m\u001b[0m\u001b[0m\n\u001b[1;32m     13\u001b[0m     \u001b[0;32melse\u001b[0m\u001b[0;34m:\u001b[0m\u001b[0;34m\u001b[0m\u001b[0;34m\u001b[0m\u001b[0m\n\u001b[0;32m---> 14\u001b[0;31m       \u001b[0;32mraise\u001b[0m \u001b[0mValueError\u001b[0m \u001b[0;34m(\u001b[0m\u001b[0;34m'Вы ввели некорректный возраст'\u001b[0m\u001b[0;34m)\u001b[0m\u001b[0;34m\u001b[0m\u001b[0;34m\u001b[0m\u001b[0m\n\u001b[0m\u001b[1;32m     15\u001b[0m \u001b[0;34m\u001b[0m\u001b[0m\n\u001b[1;32m     16\u001b[0m   \u001b[0;32mdef\u001b[0m \u001b[0mget_age\u001b[0m \u001b[0;34m(\u001b[0m\u001b[0mself\u001b[0m\u001b[0;34m)\u001b[0m\u001b[0;34m:\u001b[0m\u001b[0;34m\u001b[0m\u001b[0;34m\u001b[0m\u001b[0m\n",
            "\u001b[0;31mValueError\u001b[0m: Вы ввели некорректный возраст"
          ]
        }
      ]
    },
    {
      "cell_type": "code",
      "source": [
        "p1.set_age(20)"
      ],
      "metadata": {
        "id": "JlxwYSk4XLmH"
      },
      "execution_count": 29,
      "outputs": []
    },
    {
      "cell_type": "code",
      "source": [
        "p1.get_age()"
      ],
      "metadata": {
        "colab": {
          "base_uri": "https://localhost:8080/"
        },
        "id": "09CcuqdFXPSR",
        "outputId": "cca04da2-fe25-45ce-8176-2a8ac58aedce"
      },
      "execution_count": 30,
      "outputs": [
        {
          "output_type": "execute_result",
          "data": {
            "text/plain": [
              "20"
            ]
          },
          "metadata": {},
          "execution_count": 30
        }
      ]
    },
    {
      "cell_type": "code",
      "source": [
        "class Person:\n",
        "  def __init__(self, name, age):\n",
        "    self.__name = name\n",
        "    self.__age = age\n",
        "\n",
        "  def introduce(self):\n",
        "    print (f'Мое имя - {self.__name}, возраст - {self.__age}')\n",
        "\n",
        "  @property\n",
        "  def age (self):\n",
        "    return self.__age\n",
        "\n",
        "  @age.setter\n",
        "  def age (self,age):\n",
        "    if 18 <= age <= 65:\n",
        "      self.__age = age\n",
        "\n",
        "    else:\n",
        "      raise ValueError ('Вы ввели некорректный возраст')"
      ],
      "metadata": {
        "id": "HjHhDtM4XcSv"
      },
      "execution_count": 31,
      "outputs": []
    },
    {
      "cell_type": "code",
      "source": [
        "p1 = Person('Vladimir', 20)"
      ],
      "metadata": {
        "id": "hC77liRpYj1N"
      },
      "execution_count": 32,
      "outputs": []
    },
    {
      "cell_type": "code",
      "source": [
        "p1.age = 10"
      ],
      "metadata": {
        "colab": {
          "base_uri": "https://localhost:8080/",
          "height": 232
        },
        "id": "rVa8SdVOYksJ",
        "outputId": "00beb2ef-f25c-4c6a-ab12-6e1dbb4dde25"
      },
      "execution_count": 34,
      "outputs": [
        {
          "output_type": "error",
          "ename": "ValueError",
          "evalue": "Вы ввели некорректный возраст",
          "traceback": [
            "\u001b[0;31m---------------------------------------------------------------------------\u001b[0m",
            "\u001b[0;31mValueError\u001b[0m                                Traceback (most recent call last)",
            "\u001b[0;32m<ipython-input-34-dcbdc0546302>\u001b[0m in \u001b[0;36m<cell line: 1>\u001b[0;34m()\u001b[0m\n\u001b[0;32m----> 1\u001b[0;31m \u001b[0mp1\u001b[0m\u001b[0;34m.\u001b[0m\u001b[0mage\u001b[0m \u001b[0;34m=\u001b[0m \u001b[0;36m10\u001b[0m\u001b[0;34m\u001b[0m\u001b[0;34m\u001b[0m\u001b[0m\n\u001b[0m",
            "\u001b[0;32m<ipython-input-31-ce8c1628a15f>\u001b[0m in \u001b[0;36mage\u001b[0;34m(self, age)\u001b[0m\n\u001b[1;32m     17\u001b[0m \u001b[0;34m\u001b[0m\u001b[0m\n\u001b[1;32m     18\u001b[0m     \u001b[0;32melse\u001b[0m\u001b[0;34m:\u001b[0m\u001b[0;34m\u001b[0m\u001b[0;34m\u001b[0m\u001b[0m\n\u001b[0;32m---> 19\u001b[0;31m       \u001b[0;32mraise\u001b[0m \u001b[0mValueError\u001b[0m \u001b[0;34m(\u001b[0m\u001b[0;34m'Вы ввели некорректный возраст'\u001b[0m\u001b[0;34m)\u001b[0m\u001b[0;34m\u001b[0m\u001b[0;34m\u001b[0m\u001b[0m\n\u001b[0m",
            "\u001b[0;31mValueError\u001b[0m: Вы ввели некорректный возраст"
          ]
        }
      ]
    },
    {
      "cell_type": "code",
      "source": [
        "p1.age = 20"
      ],
      "metadata": {
        "id": "cxKk3_eYZEgR"
      },
      "execution_count": 35,
      "outputs": []
    },
    {
      "cell_type": "code",
      "source": [
        "p1.introduce()"
      ],
      "metadata": {
        "colab": {
          "base_uri": "https://localhost:8080/"
        },
        "id": "egC9iV8_ZLiQ",
        "outputId": "871d9d95-ca42-4128-9dec-7b516e4a3a9e"
      },
      "execution_count": 36,
      "outputs": [
        {
          "output_type": "stream",
          "name": "stdout",
          "text": [
            "Мое имя - Vladimir, возраст - 20\n"
          ]
        }
      ]
    }
  ]
}